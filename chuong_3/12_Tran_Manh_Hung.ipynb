{
 "cells": [
  {
   "cell_type": "markdown",
   "metadata": {},
   "source": [
    "# Bài tập SQL chương 3"
   ]
  },
  {
   "cell_type": "code",
   "execution_count": 39,
   "metadata": {},
   "outputs": [],
   "source": [
    "import sqlite3\n",
    "import pandas as pd\n",
    "import numpy as np  \n",
    "import math\n"
   ]
  },
  {
   "cell_type": "markdown",
   "metadata": {},
   "source": [
    "## Thiết lập kết nối Database\n",
    "\n",
    "Tạo một database SQLite (nếu chưa có) và thiết lập kết nối."
   ]
  },
  {
   "cell_type": "code",
   "execution_count": 40,
   "metadata": {},
   "outputs": [],
   "source": [
    "conn = sqlite3.connect(\":memory:\")\n",
    "cursor = conn.cursor()\n",
    "conn.create_function(\"SQRT\", 1, math.sqrt)"
   ]
  },
  {
   "cell_type": "markdown",
   "id": "f58c3ddb",
   "metadata": {},
   "source": [
    "---\n",
    "## Câu 1: Viết câu lệnh SQL để tính sự tuong quan giữa A và B\n",
    "\n",
    "Hãy viết câu lệnh SQL để tính sự tương quan giữa A và B theo công thức Pearson Correlation Coefficient:\n",
    "\n",
    "Công thức: `r_AB = [n * Σ(a_i * b_i) - (Σa_i * Σb_i)] / sqrt([n * Σa_i² - (Σa_i)²] * [n * Σb_i² - (Σb_i)²])`\n",
    "\n",
    "**Giả định:** Có một bảng `DataPoints` chứa các cặp giá trị (value_a, value_b).\n"
   ]
  },
  {
   "cell_type": "code",
   "execution_count": 41,
   "id": "3a389f9c",
   "metadata": {},
   "outputs": [],
   "source": [
    "#Tạo bảng\n",
    "cursor.execute(\"\"\"\n",
    "CREATE TABLE DataPoints (\n",
    "    id INTEGER PRIMARY KEY AUTOINCREMENT,\n",
    "    value_a REAL,\n",
    "    value_b REAL\n",
    ");\n",
    "\"\"\")\n",
    "# Dữ liệu mẫu đơn giản\n",
    "sample_data = [\n",
    "    (2, 1),\n",
    "    (4, 2),\n",
    "    (5, 4),\n",
    "    (6, 4),\n",
    "    (8, 5)\n",
    "]\n",
    "cursor.executemany(\"INSERT INTO DataPoints (value_a, value_b) VALUES (?, ?);\", sample_data)\n",
    "conn.commit()"
   ]
  },
  {
   "cell_type": "code",
   "execution_count": 42,
   "id": "72b8c428",
   "metadata": {},
   "outputs": [
    {
     "name": "stdout",
     "output_type": "stream",
     "text": [
      "\n",
      "--- Kết quả Câu 1 (Tính r_AB) ---\n",
      "   n  sum_a  sum_b  sum_ab  sum_a_sq  sum_b_sq  numerator  denominator_a_term  \\\n",
      "0  5   25.0   16.0    94.0     145.0      62.0       70.0               100.0   \n",
      "\n",
      "   denominator_b_term  denominator  pearson_correlation_rAB  \n",
      "0                54.0    73.484692                 0.952579  \n",
      "\n",
      "Hệ số tương quan Pearson (r_AB): 0.9525793444156803\n"
     ]
    }
   ],
   "source": [
    "# 2. Viết truy vấn SQL tính r_AB\n",
    "\n",
    "query_c1 = \"\"\"\n",
    "WITH Aggregates AS (\n",
    "    SELECT\n",
    "        COUNT(*) as n,\n",
    "        SUM(value_a) as sum_a,\n",
    "        SUM(value_b) as sum_b,\n",
    "        SUM(value_a * value_b) as sum_ab,\n",
    "        SUM(value_a * value_a) as sum_a_sq, -- SUM(POWER(value_a, 2)) không dùng được trong SQLite\n",
    "        SUM(value_b * value_b) as sum_b_sq  -- SUM(POWER(value_b, 2)) không dùng được trong SQLite\n",
    "    FROM\n",
    "        DataPoints\n",
    ")\n",
    "SELECT\n",
    "    agg.n,\n",
    "    agg.sum_a,\n",
    "    agg.sum_b,\n",
    "    agg.sum_ab,\n",
    "    agg.sum_a_sq,\n",
    "    agg.sum_b_sq,\n",
    "    -- Tính toán tử số\n",
    "    (agg.n * agg.sum_ab - agg.sum_a * agg.sum_b) AS numerator,\n",
    "    -- Tính toán các thành phần mẫu số\n",
    "    (agg.n * agg.sum_a_sq - agg.sum_a * agg.sum_a) AS denominator_a_term,\n",
    "    (agg.n * agg.sum_b_sq - agg.sum_b * agg.sum_b) AS denominator_b_term,\n",
    "    -- Tính toán mẫu số (tránh lỗi chia cho 0 hoặc căn bậc hai của số âm)\n",
    "    CASE\n",
    "        WHEN (agg.n * agg.sum_a_sq - agg.sum_a * agg.sum_a) <= 0 OR (agg.n * agg.sum_b_sq - agg.sum_b * agg.sum_b) <= 0 THEN NULL -- Trả về NULL nếu phương sai bằng 0 hoặc âm (không hợp lệ)\n",
    "        ELSE SQRT((agg.n * agg.sum_a_sq - agg.sum_a * agg.sum_a) * (agg.n * agg.sum_b_sq - agg.sum_b * agg.sum_b))\n",
    "    END AS denominator,\n",
    "    -- Tính r_AB (hệ số tương quan)\n",
    "    CASE\n",
    "        WHEN (agg.n * agg.sum_a_sq - agg.sum_a * agg.sum_a) <= 0 OR (agg.n * agg.sum_b_sq - agg.sum_b * agg.sum_b) <= 0 THEN NULL -- Trả về NULL nếu mẫu số không hợp lệ\n",
    "        -- Sử dụng NULLIF để tránh chia cho 0 nếu mẫu số tính ra chính xác bằng 0\n",
    "        ELSE (agg.n * agg.sum_ab - agg.sum_a * agg.sum_b) / NULLIF(SQRT((agg.n * agg.sum_a_sq - agg.sum_a * agg.sum_a) * (agg.n * agg.sum_b_sq - agg.sum_b * agg.sum_b)), 0)\n",
    "    END AS pearson_correlation_rAB\n",
    "FROM\n",
    "    Aggregates agg;\n",
    "\"\"\"\n",
    "\n",
    "print(\"\\n--- Kết quả Câu 1 (Tính r_AB) ---\")\n",
    "df_c1 = pd.read_sql_query(query_c1, conn)\n",
    "print(df_c1)\n",
    "print(f\"\\nHệ số tương quan Pearson (r_AB): {df_c1['pearson_correlation_rAB'].iloc[0]}\")\n",
    "\n"
   ]
  },
  {
   "cell_type": "markdown",
   "id": "7bc1497a",
   "metadata": {},
   "source": [
    "---\n",
    "## Câu 2: Chuyển đổi dữ liệu và chuẩn bị cho kiểm tra χ²\n",
    "\n",
    "Một công ty oto đang kiểm tra 3 loại mẫu mới A, B và C trong 4 ngày, và chấm điểm theo thang từ 1 đến 10 điểm cho mỗi ngày với bảng sau. Liệu có sự khác biệt đáng kể giữa các mẫu dựa trên điểm số mà chúng nhận được trong 4 ngày thử nghiệm không? Kết quả thử nghiệm phụ thuộc vào ngày hay phụ thuộc vào mẫu xe? Hãy chuyển đổi dữ liệu sang dạng quan hệ và thực hiện kiểm tra χ2.\n",
    "\n",
    "|        | A   | B   | C   |\n",
    "| :----- | :-: | :-: | :-: |\n",
    "| Day 1  | 8   | 9   | 7   |\n",
    "| Day 2  | 7.5 | 8.5 | 7   |\n",
    "| Day 3  | 6   | 7   | 8   |\n",
    "| Day 4  | 7   | 6   | 5   |\n"
   ]
  },
  {
   "cell_type": "code",
   "execution_count": 43,
   "id": "ea813b42",
   "metadata": {},
   "outputs": [],
   "source": [
    "# Tạo bảng \n",
    "cursor.execute(\"\"\"\n",
    "CREATE TABLE CarTests (\n",
    "    TestID INTEGER PRIMARY KEY AUTOINCREMENT,\n",
    "    Day INTEGER,\n",
    "    Model TEXT,\n",
    "    Score REAL\n",
    ");\n",
    "\"\"\")\n",
    "\n",
    "# Dữ liệu từ bảng đề bài\n",
    "test_data = [\n",
    "    (1, 'A', 8.0), (1, 'B', 9.0), (1, 'C', 7.0),\n",
    "    (2, 'A', 7.5), (2, 'B', 8.5), (2, 'C', 7.0),\n",
    "    (3, 'A', 6.0), (3, 'B', 7.0), (3, 'C', 8.0),\n",
    "    (4, 'A', 7.0), (4, 'B', 6.0), (4, 'C', 5.0)\n",
    "]\n",
    "\n",
    "# Chèn dữ liệu vào bảng CarTests\n",
    "cursor.executemany(\"INSERT INTO CarTests (Day, Model, Score) VALUES (?, ?, ?);\", test_data)\n",
    "conn.commit()"
   ]
  },
  {
   "cell_type": "code",
   "execution_count": 44,
   "id": "f1dfb828",
   "metadata": {},
   "outputs": [
    {
     "name": "stdout",
     "output_type": "stream",
     "text": [
      "\n",
      "--- Kết quả Câu 2 (Dữ liệu dạng quan hệ) ---\n",
      "    TestID  Day Model  Score\n",
      "0        1    1     A    8.0\n",
      "1        2    1     B    9.0\n",
      "2        3    1     C    7.0\n",
      "3        4    2     A    7.5\n",
      "4        5    2     B    8.5\n",
      "5        6    2     C    7.0\n",
      "6        7    3     A    6.0\n",
      "7        8    3     B    7.0\n",
      "8        9    3     C    8.0\n",
      "9       10    4     A    7.0\n",
      "10      11    4     B    6.0\n",
      "11      12    4     C    5.0\n",
      "\n",
      "Dữ liệu đã sẵn sàng ở định dạng quan hệ.\n",
      "Để thực hiện kiểm tra Chi-Squared (χ²), cần xử lý thêm (ví dụ: phân loại điểm số)\n",
      "và sử dụng các thư viện thống kê bên ngoài SQL (như Scipy trong Python).\n"
     ]
    }
   ],
   "source": [
    "# 2. Hiển thị dữ liệu đã chuyển đổi\n",
    "\n",
    "query_c2_show = \"SELECT * FROM CarTests ORDER BY Day, Model;\"\n",
    "\n",
    "print(\"\\n--- Kết quả Câu 2 (Dữ liệu dạng quan hệ) ---\")\n",
    "df_c2 = pd.read_sql_query(query_c2_show, conn)\n",
    "print(df_c2)\n",
    "print(\"\\nDữ liệu đã sẵn sàng ở định dạng quan hệ.\")\n",
    "print(\"Để thực hiện kiểm tra Chi-Squared (χ²), cần xử lý thêm (ví dụ: phân loại điểm số)\")\n",
    "print(\"và sử dụng các thư viện thống kê bên ngoài SQL (như Scipy trong Python).\")\n"
   ]
  },
  {
   "cell_type": "markdown",
   "metadata": {},
   "source": [
    "---\n",
    "## Câu 3: Chuyển đổi thời gian dạng số nguyên sang định dạng thời gian\n",
    "\n",
    "Bảng `flights(departure_time_int, ...)` chứa các giá trị thời gian dưới dạng số nguyên (ví dụ: 830 cho 8:30 AM, 1445 cho 2:45 PM). Hãy chuyển đổi các giá trị này thành định dạng thời gian `HH:MM`."
   ]
  },
  {
   "cell_type": "code",
   "execution_count": 45,
   "metadata": {},
   "outputs": [
    {
     "name": "stdout",
     "output_type": "stream",
     "text": [
      "Đã tạo bảng 'flights' và chèn dữ liệu mẫu.\n"
     ]
    }
   ],
   "source": [
    "# 1. Tạo bảng và chèn dữ liệu mẫu\n",
    "cursor.execute(\"\"\"\n",
    "CREATE TABLE flights (\n",
    "    flight_id INTEGER PRIMARY KEY AUTOINCREMENT,\n",
    "    departure_time_int INTEGER\n",
    ");\n",
    "\"\"\")\n",
    "\n",
    "sample_flights = [\n",
    "    (830,), (905,), (1445,), (1700,), (2359,), (5,), (1200,)\n",
    "]\n",
    "cursor.executemany(\"INSERT INTO flights (departure_time_int) VALUES (?);\", sample_flights)\n",
    "conn.commit()\n",
    "print(\"Đã tạo bảng 'flights' và chèn dữ liệu mẫu.\")"
   ]
  },
  {
   "cell_type": "code",
   "execution_count": 46,
   "metadata": {},
   "outputs": [
    {
     "name": "stdout",
     "output_type": "stream",
     "text": [
      "\n",
      "--- Kết quả Câu 3 ---\n",
      "   flight_id  departure_time_int formatted_departure_time\n",
      "0          1                 830                    08:30\n",
      "1          2                 905                    09:05\n",
      "2          3                1445                    14:45\n",
      "3          4                1700                    17:00\n",
      "4          5                2359                    23:59\n",
      "5          6                   5                    00:05\n",
      "6          7                1200                    12:00\n"
     ]
    }
   ],
   "source": [
    "# 2. Thực hiện truy vấn chuyển đổi\n",
    "query_c3 = \"\"\"\n",
    "SELECT\n",
    "    flight_id,\n",
    "    departure_time_int,\n",
    "    printf('%02d', departure_time_int / 100) || ':' || printf('%02d', departure_time_int % 100) AS formatted_departure_time\n",
    "FROM\n",
    "    flights;\n",
    "\"\"\"\n",
    "\n",
    "print(\"\\n--- Kết quả Câu 3 ---\")\n",
    "df_c3 = pd.read_sql_query(query_c3, conn)\n",
    "print(df_c3)"
   ]
  },
  {
   "cell_type": "markdown",
   "metadata": {},
   "source": [
    "---\n",
    "## Câu 4: Tìm ngoại lệ sử dụng MAD\n",
    "\n",
    "Viết truy vấn SQL để tìm các giá trị ngoại lệ trong bảng `measurements(value)` bằng cách sử dụng MAD (Median Absolute Deviation). Một quy tắc chung là xem xét các giá trị ngoại lệ nếu độ lệch tuyệt đối của chúng so với median lớn hơn 1.5 lần MAD.\n"
   ]
  },
  {
   "cell_type": "code",
   "execution_count": 47,
   "metadata": {},
   "outputs": [
    {
     "name": "stdout",
     "output_type": "stream",
     "text": [
      "Đã tạo bảng 'measurements' và chèn dữ liệu mẫu.\n"
     ]
    }
   ],
   "source": [
    "# 1. Tạo bảng và chèn dữ liệu mẫu\n",
    "cursor.execute(\"\"\"\n",
    "CREATE TABLE measurements (\n",
    "    id INTEGER PRIMARY KEY AUTOINCREMENT,\n",
    "    value REAL\n",
    ");\n",
    "\"\"\")\n",
    "sample_measurements = [\n",
    "    (10.5,), (11.2,), (10.8,), (11.5,), (10.9,), (11.0,),\n",
    "    (11.1,), (10.7,), (12.0,), (25.0,), (1.0,) # 25.0 và 1.0 có thể là ngoại lệ\n",
    "]\n",
    "cursor.executemany(\"INSERT INTO measurements (value) VALUES (?);\", sample_measurements)\n",
    "conn.commit()\n",
    "print(\"Đã tạo bảng 'measurements' và chèn dữ liệu mẫu.\")"
   ]
  },
  {
   "cell_type": "code",
   "execution_count": 48,
   "metadata": {},
   "outputs": [
    {
     "name": "stdout",
     "output_type": "stream",
     "text": [
      "\n",
      "--- Kết quả Câu 4 (Ngoại lệ dùng MAD) ---\n",
      "   id  value  median_val  abs_dev  mad_val  mad_score\n",
      "0   1   10.5        11.0      0.5      0.3   1.666667\n",
      "1   4   11.5        11.0      0.5      0.3   1.666667\n",
      "2   9   12.0        11.0      1.0      0.3   3.333333\n",
      "3  10   25.0        11.0     14.0      0.3  46.666667\n",
      "4  11    1.0        11.0     10.0      0.3  33.333333\n"
     ]
    }
   ],
   "source": [
    "# 2. Thực hiện truy vấn tìm ngoại lệ bằng MAD\n",
    "\n",
    "query_c4 = \"\"\"\n",
    "WITH MedianCalc AS (\n",
    "    -- Tính số thứ tự và tổng số hàng để xác định vị trí giữa\n",
    "    SELECT\n",
    "        id,\n",
    "        value,\n",
    "        ROW_NUMBER() OVER (ORDER BY value) as rn,\n",
    "        COUNT(*) OVER () as total_count\n",
    "    FROM measurements\n",
    "), OverallMedian AS (\n",
    "    -- Tính Median bằng cách lấy trung bình của giá trị ở vị trí giữa (hoặc hai vị trí giữa nếu số hàng chẵn)\n",
    "    SELECT AVG(value) as median_val\n",
    "    FROM MedianCalc\n",
    "    WHERE rn IN ( (total_count + 1) / 2, (total_count + 2) / 2 )\n",
    "), AbsoluteDeviations AS (\n",
    "    -- Tính độ lệch tuyệt đối so với Median cho mỗi điểm dữ liệu\n",
    "    SELECT\n",
    "        m.id,\n",
    "        m.value,\n",
    "        om.median_val,\n",
    "        ABS(m.value - om.median_val) as abs_dev\n",
    "    FROM measurements m, OverallMedian om\n",
    "), MADCalc AS (\n",
    "    -- Tính số thứ tự và tổng số hàng cho các độ lệch tuyệt đối\n",
    "    SELECT\n",
    "        id,\n",
    "        value,\n",
    "        median_val,\n",
    "        abs_dev,\n",
    "        ROW_NUMBER() OVER (ORDER BY abs_dev) as rn_mad,\n",
    "        COUNT(*) OVER () as total_count_mad\n",
    "    FROM AbsoluteDeviations\n",
    "), OverallMAD AS (\n",
    "    -- Tính MAD (Median của các độ lệch tuyệt đối)\n",
    "    -- Xử lý trường hợp MAD = 0 để tránh chia cho 0 nếu tất cả các giá trị giống hệt nhau\n",
    "    SELECT MAX(mad_val, 1e-9) as mad_val -- Sử dụng MAX để tránh MAD = 0\n",
    "    FROM (\n",
    "        SELECT AVG(abs_dev) as mad_val\n",
    "        FROM MADCalc\n",
    "        WHERE rn_mad IN ( (total_count_mad + 1) / 2, (total_count_mad + 2) / 2 )\n",
    "    )\n",
    ")\n",
    "-- Cuối cùng, chọn ra các điểm dữ liệu là ngoại lệ\n",
    "SELECT\n",
    "    ad.id,\n",
    "    ad.value,\n",
    "    ad.median_val,\n",
    "    ad.abs_dev,\n",
    "    oM.mad_val,\n",
    "    (ad.abs_dev / oM.mad_val) AS mad_score -- Điểm số MAD (tùy chọn)\n",
    "FROM\n",
    "    AbsoluteDeviations ad, OverallMAD oM\n",
    "WHERE\n",
    "    ad.abs_dev > (1.5 * oM.mad_val); -- Điều kiện ngoại lệ\n",
    "\"\"\"\n",
    "\n",
    "print(\"\\n--- Kết quả Câu 4 (Ngoại lệ dùng MAD) ---\")\n",
    "df_c4 = pd.read_sql_query(query_c4, conn)\n",
    "print(df_c4)"
   ]
  },
  {
   "cell_type": "markdown",
   "metadata": {},
   "source": [
    "---\n",
    "## Câu 5: Xác định bệnh nhân trùng lặp bằng khoảng cách Boolean kết hợp\n",
    "\n",
    "Xác định liệu hai người trong bảng `Patient(patient_id, last_name, weight, height)` có phải là một người hay không bằng cách sử dụng \"khoảng cách kết hợp Boolean\" trên `last_name` và `weight`. Nghĩa là, tìm các cặp bệnh nhân có cùng `last_name` VÀ cùng `weight`."
   ]
  },
  {
   "cell_type": "code",
   "execution_count": 49,
   "metadata": {},
   "outputs": [
    {
     "name": "stdout",
     "output_type": "stream",
     "text": [
      "Đã tạo bảng 'Patient' và chèn dữ liệu mẫu.\n"
     ]
    }
   ],
   "source": [
    "# 1. Tạo bảng và chèn dữ liệu mẫu\n",
    "cursor.execute(\"\"\"\n",
    "CREATE TABLE Patient (\n",
    "    patient_id INTEGER PRIMARY KEY AUTOINCREMENT,\n",
    "    last_name TEXT,\n",
    "    weight REAL,\n",
    "    height REAL\n",
    ");\n",
    "\"\"\")\n",
    "sample_patients = [\n",
    "    ('Nguyen', 65.5, 170.0),\n",
    "    ('Tran', 70.0, 175.0),\n",
    "    ('Le', 55.2, 160.5),\n",
    "    ('Nguyen', 65.5, 171.0), # Trùng last_name và weight với ID 1\n",
    "    ('Pham', 80.1, 180.0),\n",
    "    ('Tran', 70.0, 175.5), # Trùng last_name và weight với ID 2\n",
    "    ('Nguyen', 75.0, 172.0) # Khác weight với ID 1 và 4\n",
    "]\n",
    "cursor.executemany(\"INSERT INTO Patient (last_name, weight, height) VALUES (?, ?, ?);\", sample_patients)\n",
    "conn.commit()\n",
    "print(\"Đã tạo bảng 'Patient' và chèn dữ liệu mẫu.\")"
   ]
  },
  {
   "cell_type": "code",
   "execution_count": 50,
   "metadata": {},
   "outputs": [
    {
     "name": "stdout",
     "output_type": "stream",
     "text": [
      "\n",
      "--- Kết quả Câu 5 (Bệnh nhân trùng lặp tiềm năng) ---\n",
      "   patient1_id patient1_lastname  patient1_weight  patient1_height separator  \\\n",
      "0            1            Nguyen             65.5            170.0        |    \n",
      "1            2              Tran             70.0            175.0        |    \n",
      "\n",
      "   patient2_id patient2_lastname  patient2_weight  patient2_height  \n",
      "0            4            Nguyen             65.5            171.0  \n",
      "1            6              Tran             70.0            175.5  \n"
     ]
    }
   ],
   "source": [
    "# 2. Thực hiện truy vấn tìm cặp trùng lặp\n",
    "query_c5 = \"\"\"\n",
    "SELECT\n",
    "    p1.patient_id AS patient1_id,\n",
    "    p1.last_name AS patient1_lastname,\n",
    "    p1.weight AS patient1_weight,\n",
    "    p1.height AS patient1_height,\n",
    "    ' | ' AS separator, -- Phân tách giữa 2 bệnh nhân\n",
    "    p2.patient_id AS patient2_id,\n",
    "    p2.last_name AS patient2_lastname,\n",
    "    p2.weight AS patient2_weight,\n",
    "    p2.height AS patient2_height\n",
    "FROM\n",
    "    Patient p1\n",
    "JOIN\n",
    "    Patient p2 ON p1.patient_id < p2.patient_id -- Chỉ lấy mỗi cặp 1 lần và không so sánh với chính nó\n",
    "WHERE\n",
    "    p1.last_name = p2.last_name  -- Điều kiện 1: Cùng last_name\n",
    "    AND p1.weight = p2.weight;   -- Điều kiện 2: Cùng weight\n",
    "\"\"\"\n",
    "\n",
    "print(\"\\n--- Kết quả Câu 5 (Bệnh nhân trùng lặp tiềm năng) ---\")\n",
    "df_c5 = pd.read_sql_query(query_c5, conn)\n",
    "print(df_c5)"
   ]
  },
  {
   "cell_type": "code",
   "execution_count": 51,
   "metadata": {},
   "outputs": [],
   "source": [
    "cursor.close()\n",
    "conn.close()"
   ]
  }
 ],
 "metadata": {
  "kernelspec": {
   "display_name": "data_analysis_env",
   "language": "python",
   "name": "python3"
  },
  "language_info": {
   "codemirror_mode": {
    "name": "ipython",
    "version": 3
   },
   "file_extension": ".py",
   "mimetype": "text/x-python",
   "name": "python",
   "nbconvert_exporter": "python",
   "pygments_lexer": "ipython3",
   "version": "3.11.11"
  }
 },
 "nbformat": 4,
 "nbformat_minor": 5
}
