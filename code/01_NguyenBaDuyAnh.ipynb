{
 "cells": [
  {
   "cell_type": "markdown",
   "id": "37d39ed3",
   "metadata": {},
   "source": [
    "## Câu 1: Tính sự tương quan giữa A và B"
   ]
  },
  {
   "cell_type": "code",
   "execution_count": 1,
   "id": "f6fd243b",
   "metadata": {},
   "outputs": [
    {
     "name": "stdout",
     "output_type": "stream",
     "text": [
      "Hệ số tương quan Pearson r_AB = 0.9999999999999999\n"
     ]
    }
   ],
   "source": [
    "import sqlite3\n",
    "\n",
    "# Kết nối SQLite (sử dụng in-memory DB để test)\n",
    "conn = sqlite3.connect(\":memory:\")\n",
    "cursor = conn.cursor()\n",
    "\n",
    "# Tạo bảng Data với 2 cột A và B\n",
    "cursor.execute(\"\"\"\n",
    "CREATE TABLE Data (\n",
    "    A REAL,\n",
    "    B REAL\n",
    ");\n",
    "\"\"\")\n",
    "\n",
    "# Thêm dữ liệu ví dụ\n",
    "cursor.executemany(\"INSERT INTO Data (A, B) VALUES (?, ?);\", [\n",
    "    (1, 2),\n",
    "    (2, 4),\n",
    "    (3, 6),\n",
    "    (4, 8),\n",
    "    (5, 10)\n",
    "])\n",
    "\n",
    "conn.commit()\n",
    "result = cursor.execute(\"\"\"\n",
    "SELECT \n",
    "    (COUNT(*) * SUM(A * B) - SUM(A) * SUM(B)) / \n",
    "    (SQRT(COUNT(*) * SUM(A * A) - SUM(A) * SUM(A)) * \n",
    "     SQRT(COUNT(*) * SUM(B * B) - SUM(B) * SUM(B))) AS r_AB\n",
    "FROM Data\n",
    "\"\"\").fetchone()[0]\n",
    "\n",
    "print(\"Hệ số tương quan Pearson r_AB =\", result)\n"
   ]
  },
  {
   "cell_type": "markdown",
   "id": "3d3b8899",
   "metadata": {},
   "source": [
    "## Câu 2 Chuyển đổi dữ liệu sang dạng quan hệ và thực hiện kiểm tra χ2"
   ]
  },
  {
   "cell_type": "code",
   "execution_count": 2,
   "id": "09a06feb",
   "metadata": {},
   "outputs": [
    {
     "name": "stdout",
     "output_type": "stream",
     "text": [
      "Between Groups SS = 1.5416666666666667\n",
      "Within Groups SS  = 12.625\n",
      "F-ratio = 0.5495049504950495\n"
     ]
    }
   ],
   "source": [
    "import sqlite3\n",
    "\n",
    "# Tạo kết nối\n",
    "conn = sqlite3.connect(\":memory:\")\n",
    "cursor = conn.cursor()\n",
    "\n",
    "# Bước 0: Tạo bảng dữ liệu\n",
    "cursor.execute(\"CREATE TABLE Scores (Day TEXT, Sample TEXT, Score REAL)\")\n",
    "cursor.executemany(\"INSERT INTO Scores VALUES (?, ?, ?)\", [\n",
    "    (\"Day 1\", \"A\", 8), (\"Day 1\", \"B\", 9), (\"Day 1\", \"C\", 7),\n",
    "    (\"Day 2\", \"A\", 7.5), (\"Day 2\", \"B\", 8.5), (\"Day 2\", \"C\", 7),\n",
    "    (\"Day 3\", \"A\", 6), (\"Day 3\", \"B\", 7), (\"Day 3\", \"C\", 8),\n",
    "    (\"Day 4\", \"A\", 7), (\"Day 4\", \"B\", 6), (\"Day 4\", \"C\", 5),\n",
    "])\n",
    "conn.commit()\n",
    "\n",
    "# Bước 1: Tính trung bình theo từng nhóm Sample\n",
    "cursor.execute(\"\"\"\n",
    "CREATE TEMP VIEW group_means AS\n",
    "SELECT Sample, AVG(Score) AS group_mean\n",
    "FROM Scores\n",
    "GROUP BY Sample;\n",
    "\"\"\")\n",
    "\n",
    "# Bước 2: Tính trung bình toàn bộ\n",
    "overall_mean = cursor.execute(\"SELECT AVG(group_mean) FROM group_means\").fetchone()[0]\n",
    "\n",
    "# Bước 3: Tính số nhóm và tổng số điểm\n",
    "num_groups = cursor.execute(\"SELECT COUNT(DISTINCT Sample) FROM Scores\").fetchone()[0]\n",
    "total_n = cursor.execute(\"SELECT COUNT(*) FROM Scores\").fetchone()[0]\n",
    "\n",
    "# Bước 4: Between Groups\n",
    "between_groups = cursor.execute(f\"\"\"\n",
    "SELECT SUM( (group_mean - {overall_mean}) * (group_mean - {overall_mean}) *\n",
    "            (SELECT COUNT(*) FROM Scores WHERE Sample = group_means.Sample) )\n",
    "FROM group_means;\n",
    "\"\"\").fetchone()[0]\n",
    "between_df = num_groups - 1\n",
    "between_ms = between_groups / between_df\n",
    "\n",
    "# Bước 5: Within Groups\n",
    "within_groups = cursor.execute(\"\"\"\n",
    "SELECT SUM( (Score - group_mean) * (Score - group_mean) )\n",
    "FROM Scores JOIN group_means USING (Sample);\n",
    "\"\"\").fetchone()[0]\n",
    "within_df = total_n - num_groups\n",
    "within_ms = within_groups / within_df\n",
    "\n",
    "# Bước 6: F-ratio\n",
    "f_ratio = between_ms / within_ms\n",
    "\n",
    "# In kết quả\n",
    "print(\"Between Groups SS =\", between_groups)\n",
    "print(\"Within Groups SS  =\", within_groups)\n",
    "print(\"F-ratio =\", f_ratio)\n",
    "\n"
   ]
  },
  {
   "cell_type": "markdown",
   "id": "983effb6",
   "metadata": {},
   "source": [
    "Nhận xét\n",
    "\n",
    "- F-ratio = 0.55 nhỏ hơn rất nhiều so với giá trị tới hạn F ≈ 4.26 (nếu tra bảng với mức ý nghĩa α = 0.05).\n",
    "\n",
    "- Điều này có nghĩa: khác biệt trung bình giữa các mẫu nhỏ hơn so với biến động bên trong từng mẫu.\n",
    "\n",
    "- Do đó, không có bằng chứng thống kê đủ mạnh để khẳng định rằng các mẫu A, B, C khác nhau một cách đáng kể về điểm số.\n",
    "\n",
    "- Không có sự khác biệt đáng kể giữa các mẫu (A, B, C) dựa trên điểm số mà chúng nhận được trong 4 ngày thử nghiệm."
   ]
  },
  {
   "cell_type": "code",
   "execution_count": 3,
   "id": "27652dc5",
   "metadata": {},
   "outputs": [
    {
     "name": "stdout",
     "output_type": "stream",
     "text": [
      "Chi-Square theo MẪU XE:\n",
      "ScoreGroup  High  Low  Medium\n",
      "Sample                       \n",
      "A              1    1       2\n",
      "B              2    1       1\n",
      "C              1    1       2\n",
      "Chi2 = 0.900, p-value = 0.9246\n",
      "\n",
      "Chi-Square theo NGÀY:\n",
      "ScoreGroup  High  Low  Medium\n",
      "Day                          \n",
      "Day 1          2    0       1\n",
      "Day 2          1    0       2\n",
      "Day 3          1    1       1\n",
      "Day 4          0    2       1\n",
      "Chi2 = 6.267, p-value = 0.3940\n"
     ]
    }
   ],
   "source": [
    "import pandas as pd\n",
    "from scipy.stats import chi2_contingency\n",
    "# Chuyển sang Pandas để phân nhóm điểm\n",
    "df = pd.read_sql_query(\"SELECT * FROM Scores\", conn)\n",
    "\n",
    "# Phân loại điểm thành nhóm\n",
    "def score_group(score):\n",
    "    if score >= 8:\n",
    "        return 'High'\n",
    "    elif score >= 6.5:\n",
    "        return 'Medium'\n",
    "    else:\n",
    "        return 'Low'\n",
    "\n",
    "df[\"ScoreGroup\"] = df[\"Score\"].apply(score_group)\n",
    "\n",
    "# Tạo bảng đếm chéo (contingency table): ScoreGroup vs Sample\n",
    "table_sample = pd.crosstab(df[\"Sample\"], df[\"ScoreGroup\"])\n",
    "chi2_sample, p_sample, _, _ = chi2_contingency(table_sample)\n",
    "\n",
    "# Tạo bảng đếm chéo: ScoreGroup vs Day\n",
    "table_day = pd.crosstab(df[\"Day\"], df[\"ScoreGroup\"])\n",
    "chi2_day, p_day, _, _ = chi2_contingency(table_day)\n",
    "\n",
    "# In kết quả\n",
    "print(\"Chi-Square theo MẪU XE:\")\n",
    "print(table_sample)\n",
    "print(f\"Chi2 = {chi2_sample:.3f}, p-value = {p_sample:.4f}\")\n",
    "\n",
    "print(\"\\nChi-Square theo NGÀY:\")\n",
    "print(table_day)\n",
    "print(f\"Chi2 = {chi2_day:.3f}, p-value = {p_day:.4f}\")"
   ]
  },
  {
   "cell_type": "markdown",
   "id": "7c697715",
   "metadata": {},
   "source": [
    "- p-value = 0.9246 > 0.05, điều này không có ý nghĩa thống kê.\n",
    "- p-value = 0.3940 > 0.05, điều này cũng không có ý nghĩa thống kê\n",
    "\n",
    "Không có sự phụ thuộc đáng kể giữa điểm số và yếu tố nào cả — không phải do loại mẫu xe, cũng không phải do ngày thử nghiệm.\n",
    "Sự khác biệt điểm số trong bảng có thể là do yếu tố ngẫu nhiên, không có yếu tố cố định nào giải thích sự biến động."
   ]
  },
  {
   "cell_type": "markdown",
   "id": "c312fb14",
   "metadata": {},
   "source": [
    "## Câu 3 Chuyển đổi các giá trị này thành định dạng thời gian."
   ]
  },
  {
   "cell_type": "code",
   "execution_count": 4,
   "id": "5bea3f0d",
   "metadata": {},
   "outputs": [
    {
     "name": "stdout",
     "output_type": "stream",
     "text": [
      "(830, '08:30')\n",
      "(1445, '14:45')\n",
      "(50, '00:50')\n",
      "(1210, '12:10')\n",
      "(0, '00:00')\n"
     ]
    }
   ],
   "source": [
    "import sqlite3\n",
    "\n",
    "# Kết nối và tạo bảng flights mẫu\n",
    "conn = sqlite3.connect(\":memory:\")\n",
    "cursor = conn.cursor()\n",
    "\n",
    "cursor.execute(\"\"\"\n",
    "CREATE TABLE flights (\n",
    "    id INTEGER PRIMARY KEY,\n",
    "    departure_time INTEGER\n",
    ");\n",
    "\"\"\")\n",
    "\n",
    "# Thêm dữ liệu mẫu\n",
    "cursor.executemany(\"INSERT INTO flights (departure_time) VALUES (?);\", [\n",
    "    (830,), (1445,), (50,), (1210,), (0,)\n",
    "])\n",
    "\n",
    "conn.commit()\n",
    "\n",
    "# Truy vấn chuyển đổi departure_time sang định dạng HH:MM\n",
    "cursor.execute(\"\"\"\n",
    "SELECT \n",
    "    departure_time,\n",
    "    printf('%02d:%02d', departure_time / 100, departure_time % 100) AS formatted_time\n",
    "FROM flights;\n",
    "\"\"\")\n",
    "\n",
    "# In kết quả\n",
    "for row in cursor.fetchall():\n",
    "    print(row)\n"
   ]
  },
  {
   "cell_type": "markdown",
   "id": "8a334da7",
   "metadata": {},
   "source": [
    "## Câu 4  Tìm các ngoại lệ bằng cách sử dụng MAD"
   ]
  },
  {
   "cell_type": "code",
   "execution_count": 5,
   "id": "941d7bc2",
   "metadata": {},
   "outputs": [],
   "source": [
    "import sqlite3\n",
    "import statistics\n",
    "\n",
    "# Tạo SQLite in-memory\n",
    "conn = sqlite3.connect(\":memory:\")\n",
    "cursor = conn.cursor()\n",
    "\n",
    "# Tạo bảng scores\n",
    "cursor.execute(\"CREATE TABLE scores (score REAL);\")\n",
    "cursor.executemany(\"INSERT INTO scores (score) VALUES (?);\", [\n",
    "    (10,), (12,), (13,), (14,), (100,), (11,), (13,), (12,)\n",
    "])\n",
    "conn.commit()\n",
    "\n"
   ]
  },
  {
   "cell_type": "code",
   "execution_count": 6,
   "id": "b907975f",
   "metadata": {},
   "outputs": [
    {
     "name": "stdout",
     "output_type": "stream",
     "text": [
      "Median = 12.5, MAD = 1.0\n"
     ]
    }
   ],
   "source": [
    "# Lấy toàn bộ dữ liệu\n",
    "cursor.execute(\"SELECT score FROM scores\")\n",
    "data = [row[0] for row in cursor.fetchall()]\n",
    "\n",
    "# Tính median\n",
    "med = statistics.median(data)\n",
    "\n",
    "# Tính MAD: median(abs(x - median))\n",
    "mad = statistics.median([abs(x - med) for x in data])\n",
    "\n",
    "print(f\"Median = {med}, MAD = {mad}\")\n"
   ]
  },
  {
   "cell_type": "code",
   "execution_count": 7,
   "id": "c5089e8e",
   "metadata": {},
   "outputs": [
    {
     "name": "stdout",
     "output_type": "stream",
     "text": [
      "Outliers:\n",
      "(10.0,)\n",
      "(100.0,)\n"
     ]
    }
   ],
   "source": [
    "x = 1.5  # Hệ số phát hiện ngoại lệ\n",
    "\n",
    "cursor.execute(\"\"\"\n",
    "SELECT *\n",
    "FROM scores\n",
    "WHERE ABS(score - ?) > (? * ?)\n",
    "\"\"\", (med, x, mad))\n",
    "\n",
    "# In kết quả ngoại lệ\n",
    "print(\"Outliers:\")\n",
    "for row in cursor.fetchall():\n",
    "    print(row)\n"
   ]
  },
  {
   "cell_type": "markdown",
   "id": "408deca5",
   "metadata": {},
   "source": [
    "## Câu 5 xác định liệu hai người trong bảng Patient(last_name, weight, height) có phải là một người hay không"
   ]
  },
  {
   "cell_type": "code",
   "execution_count": 8,
   "id": "d7a6287a",
   "metadata": {},
   "outputs": [
    {
     "name": "stdout",
     "output_type": "stream",
     "text": [
      "Cặp ID 1 và 2 có thể là cùng một người: last_name = Nguyen, weight = 60.0\n",
      "Cặp ID 3 và 5 có thể là cùng một người: last_name = Tran, weight = 55.0\n"
     ]
    }
   ],
   "source": [
    "import sqlite3\n",
    "\n",
    "# Kết nối tới cơ sở dữ liệu (ở đây là trong bộ nhớ, bạn có thể thay bằng tên file nếu có)\n",
    "conn = sqlite3.connect(':memory:')\n",
    "cur = conn.cursor()\n",
    "\n",
    "# Tạo bảng Patient\n",
    "cur.execute('''\n",
    "CREATE TABLE Patient (\n",
    "    id INTEGER PRIMARY KEY AUTOINCREMENT,\n",
    "    last_name TEXT,\n",
    "    weight REAL,\n",
    "    height REAL\n",
    ")\n",
    "''')\n",
    "\n",
    "# Thêm dữ liệu mẫu\n",
    "patients = [\n",
    "    ('Nguyen', 60, 165),\n",
    "    ('Nguyen', 60, 170),\n",
    "    ('Tran', 55, 160),\n",
    "    ('Nguyen', 62, 165),\n",
    "    ('Tran', 55, 162)\n",
    "]\n",
    "\n",
    "cur.executemany('INSERT INTO Patient (last_name, weight, height) VALUES (?, ?, ?)', patients)\n",
    "conn.commit()\n",
    "\n",
    "# Tìm các cặp bệnh nhân có cùng họ và cân nặng\n",
    "query = '''\n",
    "SELECT p1.id, p2.id, p1.last_name, p1.weight\n",
    "FROM Patient p1\n",
    "JOIN Patient p2 ON p1.id < p2.id\n",
    "WHERE p1.last_name = p2.last_name AND p1.weight = p2.weight\n",
    "'''\n",
    "\n",
    "cur.execute(query)\n",
    "matches = cur.fetchall()\n",
    "\n",
    "# Hiển thị các cặp được cho là \"cùng một người\"\n",
    "for match in matches:\n",
    "    print(f\"Cặp ID {match[0]} và {match[1]} có thể là cùng một người: last_name = {match[2]}, weight = {match[3]}\")\n"
   ]
  }
 ],
 "metadata": {
  "kernelspec": {
   "display_name": "Python 3",
   "language": "python",
   "name": "python3"
  },
  "language_info": {
   "codemirror_mode": {
    "name": "ipython",
    "version": 3
   },
   "file_extension": ".py",
   "mimetype": "text/x-python",
   "name": "python",
   "nbconvert_exporter": "python",
   "pygments_lexer": "ipython3",
   "version": "3.11.9"
  }
 },
 "nbformat": 4,
 "nbformat_minor": 5
}
