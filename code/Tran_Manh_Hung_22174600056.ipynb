{
 "cells": [
  {
   "cell_type": "code",
   "execution_count": 1,
   "metadata": {},
   "outputs": [],
   "source": [
    "import sqlite3\n",
    "import pandas as pd\n",
    "import numpy as np  \n",
    "import math\n",
    "import random"
   ]
  },
  {
   "cell_type": "code",
   "execution_count": 2,
   "metadata": {},
   "outputs": [],
   "source": [
    "conn = sqlite3.connect(\":memory:\")\n",
    "cursor = conn.cursor()\n",
    "conn.create_function(\"SQRT\", 1, math.sqrt)\n",
    "conn.create_function(\"FLOOR\", 1, math.floor)\n",
    "def rand_func(dummy):\n",
    "    return random.randint(1, 50)\n",
    "conn.create_function(\"RAND\",1,rand_func)"
   ]
  },
  {
   "cell_type": "code",
   "execution_count": 3,
   "metadata": {},
   "outputs": [],
   "source": [
    "#Tạo bảng\n",
    "cursor.execute(\"\"\"\n",
    "CREATE TABLE customer_purchases (\n",
    "    market_date DATE,\n",
    "    vendor_id INT,\n",
    "    quantity INT,\n",
    "    cost_to_customer_per_qty DECIMAL(10, 2)\n",
    ");\n",
    "\"\"\")\n",
    "cursor.execute(\"\"\"\n",
    "INSERT INTO customer_purchases (market_date, vendor_id, quantity, cost_to_customer_per_qty)\n",
    "VALUES\n",
    "    ('2019-03-02', 8, 2, 4.00),\n",
    "    ('2019-03-02', 8, 1, 4.00),\n",
    "    ('2019-03-09', 8, 1, 4.00),\n",
    "    ('2019-03-09', 9, 1, 16.00),\n",
    "    ('2019-03-09', 9, 1, 18.00),\n",
    "    ('2019-03-02', 4, 5, 2.00),\n",
    "    ('2019-03-02', 4, 8, 2.00),\n",
    "    ('2019-03-02', 4, 1, 2.00),\n",
    "    ('2019-03-09', 4, 10, 2.00),\n",
    "    ('2019-03-02', 1, 1, 5.50),\n",
    "    ('2020-03-01', 8, 3, 4.50),\n",
    "    ('2020-03-08', 9, 2, 5.00),\n",
    "    ('2020-03-01', 4, 5, 2.50),\n",
    "    ('2020-03-08', 4, 7, 2.20),\n",
    "    ('2021-03-06', 8, 2, 5.00),\n",
    "    ('2021-03-13', 9, 1, 17.00),\n",
    "    ('2021-03-06', 4, 8, 2.00),\n",
    "    ('2021-03-13', 4, 7, 2.50),\n",
    "    ('2022-03-05', 8, 3, 4.20),\n",
    "    ('2022-03-12', 9, 2, 5.50),\n",
    "    ('2022-03-05', 4, 5, 2.10),\n",
    "    ('2022-03-12', 4, 6, 2.30);\n",
    "\n",
    "\"\"\")\n",
    "conn.commit()"
   ]
  },
  {
   "cell_type": "code",
   "execution_count": 4,
   "metadata": {},
   "outputs": [
    {
     "data": {
      "text/plain": [
       "<sqlite3.Cursor at 0x2a9fd2826c0>"
      ]
     },
     "execution_count": 4,
     "metadata": {},
     "output_type": "execute_result"
    }
   ],
   "source": [
    "cursor.execute(\"\"\"\n",
    "CREATE TABLE market_date_info (\n",
    "    market_date DATE,\n",
    "    market_year INT,\n",
    "    market_week INT\n",
    ");\n",
    "\"\"\")\n",
    "# cursor.execute(\"\"\"\n",
    "# INSERT INTO market_date_info (market_date, market_year, market_week)\n",
    "# SELECT \n",
    "#     market_date,\n",
    "#     EXTRACT(YEAR FROM market_date) AS market_year,\n",
    "#     EXTRACT(WEEK FROM market_date) AS market_week\n",
    "# FROM customer_purchases\n",
    "# \"\"\")\n",
    "# conn.commit()"
   ]
  },
  {
   "cell_type": "code",
   "execution_count": 5,
   "metadata": {},
   "outputs": [],
   "source": [
    "cursor.execute(\"\"\"\n",
    "INSERT INTO market_date_info (market_date, market_year, market_week)\n",
    "SELECT \n",
    "    market_date,\n",
    "    CAST(strftime('%Y', market_date) AS INTEGER) AS market_year,\n",
    "    CAST(strftime('%W', market_date) AS INTEGER) AS market_week\n",
    "FROM customer_purchases\n",
    "\"\"\")\n",
    "conn.commit()"
   ]
  },
  {
   "cell_type": "code",
   "execution_count": 6,
   "metadata": {},
   "outputs": [
    {
     "data": {
      "application/vnd.microsoft.datawrangler.viewer.v0+json": {
       "columns": [
        {
         "name": "index",
         "rawType": "int64",
         "type": "integer"
        },
        {
         "name": "market_date",
         "rawType": "object",
         "type": "string"
        },
        {
         "name": "market_year",
         "rawType": "int64",
         "type": "integer"
        },
        {
         "name": "market_week",
         "rawType": "int64",
         "type": "integer"
        }
       ],
       "conversionMethod": "pd.DataFrame",
       "ref": "c688e384-f83c-4e08-be69-dbb0bdbb45a4",
       "rows": [
        [
         "0",
         "2019-03-02",
         "2019",
         "8"
        ],
        [
         "1",
         "2019-03-02",
         "2019",
         "8"
        ],
        [
         "2",
         "2019-03-02",
         "2019",
         "8"
        ],
        [
         "3",
         "2019-03-02",
         "2019",
         "8"
        ],
        [
         "4",
         "2019-03-02",
         "2019",
         "8"
        ],
        [
         "5",
         "2019-03-02",
         "2019",
         "8"
        ],
        [
         "6",
         "2019-03-09",
         "2019",
         "9"
        ],
        [
         "7",
         "2019-03-09",
         "2019",
         "9"
        ],
        [
         "8",
         "2019-03-09",
         "2019",
         "9"
        ],
        [
         "9",
         "2019-03-09",
         "2019",
         "9"
        ],
        [
         "10",
         "2020-03-01",
         "2020",
         "8"
        ],
        [
         "11",
         "2020-03-01",
         "2020",
         "8"
        ],
        [
         "12",
         "2020-03-08",
         "2020",
         "9"
        ],
        [
         "13",
         "2020-03-08",
         "2020",
         "9"
        ],
        [
         "14",
         "2021-03-06",
         "2021",
         "9"
        ],
        [
         "15",
         "2021-03-06",
         "2021",
         "9"
        ],
        [
         "16",
         "2021-03-13",
         "2021",
         "10"
        ],
        [
         "17",
         "2021-03-13",
         "2021",
         "10"
        ],
        [
         "18",
         "2022-03-05",
         "2022",
         "9"
        ],
        [
         "19",
         "2022-03-05",
         "2022",
         "9"
        ],
        [
         "20",
         "2022-03-12",
         "2022",
         "10"
        ],
        [
         "21",
         "2022-03-12",
         "2022",
         "10"
        ]
       ],
       "shape": {
        "columns": 3,
        "rows": 22
       }
      },
      "text/html": [
       "<div>\n",
       "<style scoped>\n",
       "    .dataframe tbody tr th:only-of-type {\n",
       "        vertical-align: middle;\n",
       "    }\n",
       "\n",
       "    .dataframe tbody tr th {\n",
       "        vertical-align: top;\n",
       "    }\n",
       "\n",
       "    .dataframe thead th {\n",
       "        text-align: right;\n",
       "    }\n",
       "</style>\n",
       "<table border=\"1\" class=\"dataframe\">\n",
       "  <thead>\n",
       "    <tr style=\"text-align: right;\">\n",
       "      <th></th>\n",
       "      <th>market_date</th>\n",
       "      <th>market_year</th>\n",
       "      <th>market_week</th>\n",
       "    </tr>\n",
       "  </thead>\n",
       "  <tbody>\n",
       "    <tr>\n",
       "      <th>0</th>\n",
       "      <td>2019-03-02</td>\n",
       "      <td>2019</td>\n",
       "      <td>8</td>\n",
       "    </tr>\n",
       "    <tr>\n",
       "      <th>1</th>\n",
       "      <td>2019-03-02</td>\n",
       "      <td>2019</td>\n",
       "      <td>8</td>\n",
       "    </tr>\n",
       "    <tr>\n",
       "      <th>2</th>\n",
       "      <td>2019-03-02</td>\n",
       "      <td>2019</td>\n",
       "      <td>8</td>\n",
       "    </tr>\n",
       "    <tr>\n",
       "      <th>3</th>\n",
       "      <td>2019-03-02</td>\n",
       "      <td>2019</td>\n",
       "      <td>8</td>\n",
       "    </tr>\n",
       "    <tr>\n",
       "      <th>4</th>\n",
       "      <td>2019-03-02</td>\n",
       "      <td>2019</td>\n",
       "      <td>8</td>\n",
       "    </tr>\n",
       "    <tr>\n",
       "      <th>5</th>\n",
       "      <td>2019-03-02</td>\n",
       "      <td>2019</td>\n",
       "      <td>8</td>\n",
       "    </tr>\n",
       "    <tr>\n",
       "      <th>6</th>\n",
       "      <td>2019-03-09</td>\n",
       "      <td>2019</td>\n",
       "      <td>9</td>\n",
       "    </tr>\n",
       "    <tr>\n",
       "      <th>7</th>\n",
       "      <td>2019-03-09</td>\n",
       "      <td>2019</td>\n",
       "      <td>9</td>\n",
       "    </tr>\n",
       "    <tr>\n",
       "      <th>8</th>\n",
       "      <td>2019-03-09</td>\n",
       "      <td>2019</td>\n",
       "      <td>9</td>\n",
       "    </tr>\n",
       "    <tr>\n",
       "      <th>9</th>\n",
       "      <td>2019-03-09</td>\n",
       "      <td>2019</td>\n",
       "      <td>9</td>\n",
       "    </tr>\n",
       "    <tr>\n",
       "      <th>10</th>\n",
       "      <td>2020-03-01</td>\n",
       "      <td>2020</td>\n",
       "      <td>8</td>\n",
       "    </tr>\n",
       "    <tr>\n",
       "      <th>11</th>\n",
       "      <td>2020-03-01</td>\n",
       "      <td>2020</td>\n",
       "      <td>8</td>\n",
       "    </tr>\n",
       "    <tr>\n",
       "      <th>12</th>\n",
       "      <td>2020-03-08</td>\n",
       "      <td>2020</td>\n",
       "      <td>9</td>\n",
       "    </tr>\n",
       "    <tr>\n",
       "      <th>13</th>\n",
       "      <td>2020-03-08</td>\n",
       "      <td>2020</td>\n",
       "      <td>9</td>\n",
       "    </tr>\n",
       "    <tr>\n",
       "      <th>14</th>\n",
       "      <td>2021-03-06</td>\n",
       "      <td>2021</td>\n",
       "      <td>9</td>\n",
       "    </tr>\n",
       "    <tr>\n",
       "      <th>15</th>\n",
       "      <td>2021-03-06</td>\n",
       "      <td>2021</td>\n",
       "      <td>9</td>\n",
       "    </tr>\n",
       "    <tr>\n",
       "      <th>16</th>\n",
       "      <td>2021-03-13</td>\n",
       "      <td>2021</td>\n",
       "      <td>10</td>\n",
       "    </tr>\n",
       "    <tr>\n",
       "      <th>17</th>\n",
       "      <td>2021-03-13</td>\n",
       "      <td>2021</td>\n",
       "      <td>10</td>\n",
       "    </tr>\n",
       "    <tr>\n",
       "      <th>18</th>\n",
       "      <td>2022-03-05</td>\n",
       "      <td>2022</td>\n",
       "      <td>9</td>\n",
       "    </tr>\n",
       "    <tr>\n",
       "      <th>19</th>\n",
       "      <td>2022-03-05</td>\n",
       "      <td>2022</td>\n",
       "      <td>9</td>\n",
       "    </tr>\n",
       "    <tr>\n",
       "      <th>20</th>\n",
       "      <td>2022-03-12</td>\n",
       "      <td>2022</td>\n",
       "      <td>10</td>\n",
       "    </tr>\n",
       "    <tr>\n",
       "      <th>21</th>\n",
       "      <td>2022-03-12</td>\n",
       "      <td>2022</td>\n",
       "      <td>10</td>\n",
       "    </tr>\n",
       "  </tbody>\n",
       "</table>\n",
       "</div>"
      ],
      "text/plain": [
       "   market_date  market_year  market_week\n",
       "0   2019-03-02         2019            8\n",
       "1   2019-03-02         2019            8\n",
       "2   2019-03-02         2019            8\n",
       "3   2019-03-02         2019            8\n",
       "4   2019-03-02         2019            8\n",
       "5   2019-03-02         2019            8\n",
       "6   2019-03-09         2019            9\n",
       "7   2019-03-09         2019            9\n",
       "8   2019-03-09         2019            9\n",
       "9   2019-03-09         2019            9\n",
       "10  2020-03-01         2020            8\n",
       "11  2020-03-01         2020            8\n",
       "12  2020-03-08         2020            9\n",
       "13  2020-03-08         2020            9\n",
       "14  2021-03-06         2021            9\n",
       "15  2021-03-06         2021            9\n",
       "16  2021-03-13         2021           10\n",
       "17  2021-03-13         2021           10\n",
       "18  2022-03-05         2022            9\n",
       "19  2022-03-05         2022            9\n",
       "20  2022-03-12         2022           10\n",
       "21  2022-03-12         2022           10"
      ]
     },
     "execution_count": 6,
     "metadata": {},
     "output_type": "execute_result"
    }
   ],
   "source": [
    "df = 'select * from market_date_info order by market_date asc'\n",
    "df = pd.read_sql_query(df, conn)\n",
    "df"
   ]
  },
  {
   "cell_type": "code",
   "execution_count": 7,
   "metadata": {},
   "outputs": [
    {
     "data": {
      "application/vnd.microsoft.datawrangler.viewer.v0+json": {
       "columns": [
        {
         "name": "index",
         "rawType": "int64",
         "type": "integer"
        },
        {
         "name": "first_market_date_of_week",
         "rawType": "object",
         "type": "string"
        },
        {
         "name": "weekly_sales",
         "rawType": "float64",
         "type": "float"
        }
       ],
       "conversionMethod": "pd.DataFrame",
       "ref": "9120e720-60b2-4d15-b82a-fdb070270409",
       "rows": [
        [
         "0",
         "2019-03-02",
         "273.0"
        ],
        [
         "1",
         "2019-03-09",
         "232.0"
        ],
        [
         "2",
         "2020-03-01",
         "52.0"
        ],
        [
         "3",
         "2020-03-08",
         "50.8"
        ],
        [
         "4",
         "2021-03-06",
         "52.0"
        ],
        [
         "5",
         "2021-03-13",
         "69.0"
        ],
        [
         "6",
         "2022-03-05",
         "46.2"
        ],
        [
         "7",
         "2022-03-12",
         "49.6"
        ]
       ],
       "shape": {
        "columns": 2,
        "rows": 8
       }
      },
      "text/html": [
       "<div>\n",
       "<style scoped>\n",
       "    .dataframe tbody tr th:only-of-type {\n",
       "        vertical-align: middle;\n",
       "    }\n",
       "\n",
       "    .dataframe tbody tr th {\n",
       "        vertical-align: top;\n",
       "    }\n",
       "\n",
       "    .dataframe thead th {\n",
       "        text-align: right;\n",
       "    }\n",
       "</style>\n",
       "<table border=\"1\" class=\"dataframe\">\n",
       "  <thead>\n",
       "    <tr style=\"text-align: right;\">\n",
       "      <th></th>\n",
       "      <th>first_market_date_of_week</th>\n",
       "      <th>weekly_sales</th>\n",
       "    </tr>\n",
       "  </thead>\n",
       "  <tbody>\n",
       "    <tr>\n",
       "      <th>0</th>\n",
       "      <td>2019-03-02</td>\n",
       "      <td>273.0</td>\n",
       "    </tr>\n",
       "    <tr>\n",
       "      <th>1</th>\n",
       "      <td>2019-03-09</td>\n",
       "      <td>232.0</td>\n",
       "    </tr>\n",
       "    <tr>\n",
       "      <th>2</th>\n",
       "      <td>2020-03-01</td>\n",
       "      <td>52.0</td>\n",
       "    </tr>\n",
       "    <tr>\n",
       "      <th>3</th>\n",
       "      <td>2020-03-08</td>\n",
       "      <td>50.8</td>\n",
       "    </tr>\n",
       "    <tr>\n",
       "      <th>4</th>\n",
       "      <td>2021-03-06</td>\n",
       "      <td>52.0</td>\n",
       "    </tr>\n",
       "    <tr>\n",
       "      <th>5</th>\n",
       "      <td>2021-03-13</td>\n",
       "      <td>69.0</td>\n",
       "    </tr>\n",
       "    <tr>\n",
       "      <th>6</th>\n",
       "      <td>2022-03-05</td>\n",
       "      <td>46.2</td>\n",
       "    </tr>\n",
       "    <tr>\n",
       "      <th>7</th>\n",
       "      <td>2022-03-12</td>\n",
       "      <td>49.6</td>\n",
       "    </tr>\n",
       "  </tbody>\n",
       "</table>\n",
       "</div>"
      ],
      "text/plain": [
       "  first_market_date_of_week  weekly_sales\n",
       "0                2019-03-02         273.0\n",
       "1                2019-03-09         232.0\n",
       "2                2020-03-01          52.0\n",
       "3                2020-03-08          50.8\n",
       "4                2021-03-06          52.0\n",
       "5                2021-03-13          69.0\n",
       "6                2022-03-05          46.2\n",
       "7                2022-03-12          49.6"
      ]
     },
     "execution_count": 7,
     "metadata": {},
     "output_type": "execute_result"
    }
   ],
   "source": [
    "df = '''\n",
    "SELECT MIN(cp.market_date) AS first_market_date_of_week,\n",
    "       ROUND(SUM(cp.quantity * cp.cost_to_customer_per_qty), 2) AS weekly_sales\n",
    "FROM customer_purchases AS cp\n",
    "JOIN market_date_info AS md\n",
    "ON cp.market_date = md.market_date\n",
    "GROUP BY md.market_year, md.market_week\n",
    "ORDER BY md.market_year, md.market_week\n",
    "'''\n",
    "df = pd.read_sql_query(df, conn)\n",
    "df"
   ]
  },
  {
   "cell_type": "code",
   "execution_count": 8,
   "metadata": {},
   "outputs": [
    {
     "data": {
      "text/plain": [
       "<sqlite3.Cursor at 0x2a9fd2826c0>"
      ]
     },
     "execution_count": 8,
     "metadata": {},
     "output_type": "execute_result"
    }
   ],
   "source": [
    "cursor.execute('ALTER TABLE customer_purchases ADD COLUMN product_id INT;')\n",
    "cursor.execute('ALTER TABLE customer_purchases ADD COLUMN customer_id INT;')"
   ]
  },
  {
   "cell_type": "code",
   "execution_count": 9,
   "metadata": {},
   "outputs": [
    {
     "data": {
      "text/plain": [
       "<sqlite3.Cursor at 0x2a9fd2826c0>"
      ]
     },
     "execution_count": 9,
     "metadata": {},
     "output_type": "execute_result"
    }
   ],
   "source": [
    "# cursor.execute('''UPDATE customer_purchases\n",
    "#                   SET \n",
    "#                       customer_id = FLOOR(RANDOM()) + 1,\n",
    "#                       product_id = FLOOR(RANDOM()) + 1;\n",
    "#                ''')\n",
    "cursor.execute('''UPDATE customer_purchases\n",
    "                  SET \n",
    "                      customer_id = RAND(0),\n",
    "                      product_id = RAND(0);\n",
    "               ''')"
   ]
  },
  {
   "cell_type": "code",
   "execution_count": 10,
   "metadata": {},
   "outputs": [
    {
     "data": {
      "application/vnd.microsoft.datawrangler.viewer.v0+json": {
       "columns": [
        {
         "name": "index",
         "rawType": "int64",
         "type": "integer"
        },
        {
         "name": "market_date",
         "rawType": "object",
         "type": "string"
        },
        {
         "name": "vendor_id",
         "rawType": "int64",
         "type": "integer"
        },
        {
         "name": "quantity",
         "rawType": "int64",
         "type": "integer"
        },
        {
         "name": "cost_to_customer_per_qty",
         "rawType": "float64",
         "type": "float"
        },
        {
         "name": "product_id",
         "rawType": "int64",
         "type": "integer"
        },
        {
         "name": "customer_id",
         "rawType": "int64",
         "type": "integer"
        }
       ],
       "conversionMethod": "pd.DataFrame",
       "ref": "6b2a4613-a0b5-4f16-a2aa-ced95f6c1068",
       "rows": [
        [
         "0",
         "2019-03-02",
         "8",
         "2",
         "4.0",
         "12",
         "48"
        ],
        [
         "1",
         "2019-03-02",
         "8",
         "1",
         "4.0",
         "19",
         "13"
        ],
        [
         "2",
         "2019-03-09",
         "8",
         "1",
         "4.0",
         "39",
         "35"
        ],
        [
         "3",
         "2019-03-09",
         "9",
         "1",
         "16.0",
         "34",
         "12"
        ],
        [
         "4",
         "2019-03-09",
         "9",
         "1",
         "18.0",
         "18",
         "1"
        ],
        [
         "5",
         "2019-03-02",
         "4",
         "5",
         "2.0",
         "49",
         "50"
        ],
        [
         "6",
         "2019-03-02",
         "4",
         "8",
         "2.0",
         "37",
         "38"
        ],
        [
         "7",
         "2019-03-02",
         "4",
         "1",
         "2.0",
         "26",
         "26"
        ],
        [
         "8",
         "2019-03-09",
         "4",
         "10",
         "2.0",
         "1",
         "2"
        ],
        [
         "9",
         "2019-03-02",
         "1",
         "1",
         "5.5",
         "48",
         "32"
        ],
        [
         "10",
         "2020-03-01",
         "8",
         "3",
         "4.5",
         "42",
         "4"
        ],
        [
         "11",
         "2020-03-08",
         "9",
         "2",
         "5.0",
         "50",
         "15"
        ],
        [
         "12",
         "2020-03-01",
         "4",
         "5",
         "2.5",
         "38",
         "29"
        ],
        [
         "13",
         "2020-03-08",
         "4",
         "7",
         "2.2",
         "21",
         "26"
        ],
        [
         "14",
         "2021-03-06",
         "8",
         "2",
         "5.0",
         "11",
         "37"
        ],
        [
         "15",
         "2021-03-13",
         "9",
         "1",
         "17.0",
         "9",
         "15"
        ],
        [
         "16",
         "2021-03-06",
         "4",
         "8",
         "2.0",
         "11",
         "32"
        ],
        [
         "17",
         "2021-03-13",
         "4",
         "7",
         "2.5",
         "1",
         "22"
        ],
        [
         "18",
         "2022-03-05",
         "8",
         "3",
         "4.2",
         "2",
         "28"
        ],
        [
         "19",
         "2022-03-12",
         "9",
         "2",
         "5.5",
         "8",
         "13"
        ],
        [
         "20",
         "2022-03-05",
         "4",
         "5",
         "2.1",
         "42",
         "19"
        ],
        [
         "21",
         "2022-03-12",
         "4",
         "6",
         "2.3",
         "17",
         "26"
        ]
       ],
       "shape": {
        "columns": 6,
        "rows": 22
       }
      },
      "text/html": [
       "<div>\n",
       "<style scoped>\n",
       "    .dataframe tbody tr th:only-of-type {\n",
       "        vertical-align: middle;\n",
       "    }\n",
       "\n",
       "    .dataframe tbody tr th {\n",
       "        vertical-align: top;\n",
       "    }\n",
       "\n",
       "    .dataframe thead th {\n",
       "        text-align: right;\n",
       "    }\n",
       "</style>\n",
       "<table border=\"1\" class=\"dataframe\">\n",
       "  <thead>\n",
       "    <tr style=\"text-align: right;\">\n",
       "      <th></th>\n",
       "      <th>market_date</th>\n",
       "      <th>vendor_id</th>\n",
       "      <th>quantity</th>\n",
       "      <th>cost_to_customer_per_qty</th>\n",
       "      <th>product_id</th>\n",
       "      <th>customer_id</th>\n",
       "    </tr>\n",
       "  </thead>\n",
       "  <tbody>\n",
       "    <tr>\n",
       "      <th>0</th>\n",
       "      <td>2019-03-02</td>\n",
       "      <td>8</td>\n",
       "      <td>2</td>\n",
       "      <td>4.0</td>\n",
       "      <td>12</td>\n",
       "      <td>48</td>\n",
       "    </tr>\n",
       "    <tr>\n",
       "      <th>1</th>\n",
       "      <td>2019-03-02</td>\n",
       "      <td>8</td>\n",
       "      <td>1</td>\n",
       "      <td>4.0</td>\n",
       "      <td>19</td>\n",
       "      <td>13</td>\n",
       "    </tr>\n",
       "    <tr>\n",
       "      <th>2</th>\n",
       "      <td>2019-03-09</td>\n",
       "      <td>8</td>\n",
       "      <td>1</td>\n",
       "      <td>4.0</td>\n",
       "      <td>39</td>\n",
       "      <td>35</td>\n",
       "    </tr>\n",
       "    <tr>\n",
       "      <th>3</th>\n",
       "      <td>2019-03-09</td>\n",
       "      <td>9</td>\n",
       "      <td>1</td>\n",
       "      <td>16.0</td>\n",
       "      <td>34</td>\n",
       "      <td>12</td>\n",
       "    </tr>\n",
       "    <tr>\n",
       "      <th>4</th>\n",
       "      <td>2019-03-09</td>\n",
       "      <td>9</td>\n",
       "      <td>1</td>\n",
       "      <td>18.0</td>\n",
       "      <td>18</td>\n",
       "      <td>1</td>\n",
       "    </tr>\n",
       "    <tr>\n",
       "      <th>5</th>\n",
       "      <td>2019-03-02</td>\n",
       "      <td>4</td>\n",
       "      <td>5</td>\n",
       "      <td>2.0</td>\n",
       "      <td>49</td>\n",
       "      <td>50</td>\n",
       "    </tr>\n",
       "    <tr>\n",
       "      <th>6</th>\n",
       "      <td>2019-03-02</td>\n",
       "      <td>4</td>\n",
       "      <td>8</td>\n",
       "      <td>2.0</td>\n",
       "      <td>37</td>\n",
       "      <td>38</td>\n",
       "    </tr>\n",
       "    <tr>\n",
       "      <th>7</th>\n",
       "      <td>2019-03-02</td>\n",
       "      <td>4</td>\n",
       "      <td>1</td>\n",
       "      <td>2.0</td>\n",
       "      <td>26</td>\n",
       "      <td>26</td>\n",
       "    </tr>\n",
       "    <tr>\n",
       "      <th>8</th>\n",
       "      <td>2019-03-09</td>\n",
       "      <td>4</td>\n",
       "      <td>10</td>\n",
       "      <td>2.0</td>\n",
       "      <td>1</td>\n",
       "      <td>2</td>\n",
       "    </tr>\n",
       "    <tr>\n",
       "      <th>9</th>\n",
       "      <td>2019-03-02</td>\n",
       "      <td>1</td>\n",
       "      <td>1</td>\n",
       "      <td>5.5</td>\n",
       "      <td>48</td>\n",
       "      <td>32</td>\n",
       "    </tr>\n",
       "    <tr>\n",
       "      <th>10</th>\n",
       "      <td>2020-03-01</td>\n",
       "      <td>8</td>\n",
       "      <td>3</td>\n",
       "      <td>4.5</td>\n",
       "      <td>42</td>\n",
       "      <td>4</td>\n",
       "    </tr>\n",
       "    <tr>\n",
       "      <th>11</th>\n",
       "      <td>2020-03-08</td>\n",
       "      <td>9</td>\n",
       "      <td>2</td>\n",
       "      <td>5.0</td>\n",
       "      <td>50</td>\n",
       "      <td>15</td>\n",
       "    </tr>\n",
       "    <tr>\n",
       "      <th>12</th>\n",
       "      <td>2020-03-01</td>\n",
       "      <td>4</td>\n",
       "      <td>5</td>\n",
       "      <td>2.5</td>\n",
       "      <td>38</td>\n",
       "      <td>29</td>\n",
       "    </tr>\n",
       "    <tr>\n",
       "      <th>13</th>\n",
       "      <td>2020-03-08</td>\n",
       "      <td>4</td>\n",
       "      <td>7</td>\n",
       "      <td>2.2</td>\n",
       "      <td>21</td>\n",
       "      <td>26</td>\n",
       "    </tr>\n",
       "    <tr>\n",
       "      <th>14</th>\n",
       "      <td>2021-03-06</td>\n",
       "      <td>8</td>\n",
       "      <td>2</td>\n",
       "      <td>5.0</td>\n",
       "      <td>11</td>\n",
       "      <td>37</td>\n",
       "    </tr>\n",
       "    <tr>\n",
       "      <th>15</th>\n",
       "      <td>2021-03-13</td>\n",
       "      <td>9</td>\n",
       "      <td>1</td>\n",
       "      <td>17.0</td>\n",
       "      <td>9</td>\n",
       "      <td>15</td>\n",
       "    </tr>\n",
       "    <tr>\n",
       "      <th>16</th>\n",
       "      <td>2021-03-06</td>\n",
       "      <td>4</td>\n",
       "      <td>8</td>\n",
       "      <td>2.0</td>\n",
       "      <td>11</td>\n",
       "      <td>32</td>\n",
       "    </tr>\n",
       "    <tr>\n",
       "      <th>17</th>\n",
       "      <td>2021-03-13</td>\n",
       "      <td>4</td>\n",
       "      <td>7</td>\n",
       "      <td>2.5</td>\n",
       "      <td>1</td>\n",
       "      <td>22</td>\n",
       "    </tr>\n",
       "    <tr>\n",
       "      <th>18</th>\n",
       "      <td>2022-03-05</td>\n",
       "      <td>8</td>\n",
       "      <td>3</td>\n",
       "      <td>4.2</td>\n",
       "      <td>2</td>\n",
       "      <td>28</td>\n",
       "    </tr>\n",
       "    <tr>\n",
       "      <th>19</th>\n",
       "      <td>2022-03-12</td>\n",
       "      <td>9</td>\n",
       "      <td>2</td>\n",
       "      <td>5.5</td>\n",
       "      <td>8</td>\n",
       "      <td>13</td>\n",
       "    </tr>\n",
       "    <tr>\n",
       "      <th>20</th>\n",
       "      <td>2022-03-05</td>\n",
       "      <td>4</td>\n",
       "      <td>5</td>\n",
       "      <td>2.1</td>\n",
       "      <td>42</td>\n",
       "      <td>19</td>\n",
       "    </tr>\n",
       "    <tr>\n",
       "      <th>21</th>\n",
       "      <td>2022-03-12</td>\n",
       "      <td>4</td>\n",
       "      <td>6</td>\n",
       "      <td>2.3</td>\n",
       "      <td>17</td>\n",
       "      <td>26</td>\n",
       "    </tr>\n",
       "  </tbody>\n",
       "</table>\n",
       "</div>"
      ],
      "text/plain": [
       "   market_date  vendor_id  quantity  cost_to_customer_per_qty  product_id  \\\n",
       "0   2019-03-02          8         2                       4.0          12   \n",
       "1   2019-03-02          8         1                       4.0          19   \n",
       "2   2019-03-09          8         1                       4.0          39   \n",
       "3   2019-03-09          9         1                      16.0          34   \n",
       "4   2019-03-09          9         1                      18.0          18   \n",
       "5   2019-03-02          4         5                       2.0          49   \n",
       "6   2019-03-02          4         8                       2.0          37   \n",
       "7   2019-03-02          4         1                       2.0          26   \n",
       "8   2019-03-09          4        10                       2.0           1   \n",
       "9   2019-03-02          1         1                       5.5          48   \n",
       "10  2020-03-01          8         3                       4.5          42   \n",
       "11  2020-03-08          9         2                       5.0          50   \n",
       "12  2020-03-01          4         5                       2.5          38   \n",
       "13  2020-03-08          4         7                       2.2          21   \n",
       "14  2021-03-06          8         2                       5.0          11   \n",
       "15  2021-03-13          9         1                      17.0           9   \n",
       "16  2021-03-06          4         8                       2.0          11   \n",
       "17  2021-03-13          4         7                       2.5           1   \n",
       "18  2022-03-05          8         3                       4.2           2   \n",
       "19  2022-03-12          9         2                       5.5           8   \n",
       "20  2022-03-05          4         5                       2.1          42   \n",
       "21  2022-03-12          4         6                       2.3          17   \n",
       "\n",
       "    customer_id  \n",
       "0            48  \n",
       "1            13  \n",
       "2            35  \n",
       "3            12  \n",
       "4             1  \n",
       "5            50  \n",
       "6            38  \n",
       "7            26  \n",
       "8             2  \n",
       "9            32  \n",
       "10            4  \n",
       "11           15  \n",
       "12           29  \n",
       "13           26  \n",
       "14           37  \n",
       "15           15  \n",
       "16           32  \n",
       "17           22  \n",
       "18           28  \n",
       "19           13  \n",
       "20           19  \n",
       "21           26  "
      ]
     },
     "execution_count": 10,
     "metadata": {},
     "output_type": "execute_result"
    }
   ],
   "source": [
    "df = 'select * from customer_purchases'\n",
    "df = pd.read_sql_query(df, conn)\n",
    "df"
   ]
  },
  {
   "cell_type": "code",
   "execution_count": 11,
   "metadata": {},
   "outputs": [],
   "source": [
    "# cursor.execute('''\n",
    "# -- B1: Tạo bảng tạm chứa danh sách các lần mua hàng duy nhất của từng khách hàng\n",
    "# WITH customer_markets_attended AS (\n",
    "#     SELECT DISTINCT \n",
    "#         customer_id, \n",
    "#         market_date\n",
    "#     FROM \n",
    "#         customer_purchases\n",
    "#     ORDER BY \n",
    "#         customer_id, \n",
    "#         market_date\n",
    "# )\n",
    "# ''')"
   ]
  },
  {
   "cell_type": "code",
   "execution_count": 12,
   "metadata": {},
   "outputs": [
    {
     "data": {
      "text/plain": [
       "<sqlite3.Cursor at 0x2a9fd2826c0>"
      ]
     },
     "execution_count": 12,
     "metadata": {},
     "output_type": "execute_result"
    }
   ],
   "source": [
    "cursor.execute('''\n",
    "CREATE TABLE customer_markets_attended AS\n",
    "SELECT DISTINCT \n",
    "    customer_id, \n",
    "    market_date\n",
    "FROM \n",
    "    customer_purchases\n",
    "ORDER BY \n",
    "    customer_id, \n",
    "    market_date\n",
    "''')\n"
   ]
  },
  {
   "cell_type": "code",
   "execution_count": 13,
   "metadata": {},
   "outputs": [
    {
     "data": {
      "application/vnd.microsoft.datawrangler.viewer.v0+json": {
       "columns": [
        {
         "name": "index",
         "rawType": "int64",
         "type": "integer"
        },
        {
         "name": "market_date",
         "rawType": "object",
         "type": "string"
        },
        {
         "name": "customer_id",
         "rawType": "int64",
         "type": "integer"
        },
        {
         "name": "purchase_total",
         "rawType": "float64",
         "type": "float"
        },
        {
         "name": "vendor_count",
         "rawType": "int64",
         "type": "integer"
        },
        {
         "name": "customer_count",
         "rawType": "int64",
         "type": "integer"
        }
       ],
       "conversionMethod": "pd.DataFrame",
       "ref": "59faf3e6-4337-4f8d-989f-f7c549781898",
       "rows": [
        [
         "0",
         "2019-03-02",
         "13",
         "4.0",
         "1",
         "1"
        ],
        [
         "1",
         "2019-03-02",
         "26",
         "2.0",
         "1",
         "1"
        ],
        [
         "2",
         "2019-03-02",
         "32",
         "5.5",
         "1",
         "1"
        ],
        [
         "3",
         "2019-03-02",
         "38",
         "16.0",
         "1",
         "1"
        ],
        [
         "4",
         "2019-03-02",
         "48",
         "8.0",
         "1",
         "1"
        ],
        [
         "5",
         "2019-03-02",
         "50",
         "10.0",
         "1",
         "1"
        ],
        [
         "6",
         "2019-03-09",
         "1",
         "18.0",
         "1",
         "1"
        ],
        [
         "7",
         "2019-03-09",
         "2",
         "20.0",
         "1",
         "1"
        ],
        [
         "8",
         "2019-03-09",
         "12",
         "16.0",
         "1",
         "1"
        ],
        [
         "9",
         "2019-03-09",
         "35",
         "4.0",
         "1",
         "1"
        ],
        [
         "10",
         "2020-03-01",
         "4",
         "13.5",
         "1",
         "1"
        ],
        [
         "11",
         "2020-03-01",
         "29",
         "12.5",
         "1",
         "1"
        ],
        [
         "12",
         "2020-03-08",
         "15",
         "10.0",
         "1",
         "1"
        ],
        [
         "13",
         "2020-03-08",
         "26",
         "15.400000000000002",
         "1",
         "1"
        ],
        [
         "14",
         "2021-03-06",
         "32",
         "16.0",
         "1",
         "1"
        ],
        [
         "15",
         "2021-03-06",
         "37",
         "10.0",
         "1",
         "1"
        ],
        [
         "16",
         "2021-03-13",
         "15",
         "17.0",
         "1",
         "1"
        ],
        [
         "17",
         "2021-03-13",
         "22",
         "17.5",
         "1",
         "1"
        ],
        [
         "18",
         "2022-03-05",
         "19",
         "10.5",
         "1",
         "1"
        ],
        [
         "19",
         "2022-03-05",
         "28",
         "12.600000000000001",
         "1",
         "1"
        ],
        [
         "20",
         "2022-03-12",
         "13",
         "11.0",
         "1",
         "1"
        ],
        [
         "21",
         "2022-03-12",
         "26",
         "13.799999999999999",
         "1",
         "1"
        ]
       ],
       "shape": {
        "columns": 5,
        "rows": 22
       }
      },
      "text/html": [
       "<div>\n",
       "<style scoped>\n",
       "    .dataframe tbody tr th:only-of-type {\n",
       "        vertical-align: middle;\n",
       "    }\n",
       "\n",
       "    .dataframe tbody tr th {\n",
       "        vertical-align: top;\n",
       "    }\n",
       "\n",
       "    .dataframe thead th {\n",
       "        text-align: right;\n",
       "    }\n",
       "</style>\n",
       "<table border=\"1\" class=\"dataframe\">\n",
       "  <thead>\n",
       "    <tr style=\"text-align: right;\">\n",
       "      <th></th>\n",
       "      <th>market_date</th>\n",
       "      <th>customer_id</th>\n",
       "      <th>purchase_total</th>\n",
       "      <th>vendor_count</th>\n",
       "      <th>customer_count</th>\n",
       "    </tr>\n",
       "  </thead>\n",
       "  <tbody>\n",
       "    <tr>\n",
       "      <th>0</th>\n",
       "      <td>2019-03-02</td>\n",
       "      <td>13</td>\n",
       "      <td>4.0</td>\n",
       "      <td>1</td>\n",
       "      <td>1</td>\n",
       "    </tr>\n",
       "    <tr>\n",
       "      <th>1</th>\n",
       "      <td>2019-03-02</td>\n",
       "      <td>26</td>\n",
       "      <td>2.0</td>\n",
       "      <td>1</td>\n",
       "      <td>1</td>\n",
       "    </tr>\n",
       "    <tr>\n",
       "      <th>2</th>\n",
       "      <td>2019-03-02</td>\n",
       "      <td>32</td>\n",
       "      <td>5.5</td>\n",
       "      <td>1</td>\n",
       "      <td>1</td>\n",
       "    </tr>\n",
       "    <tr>\n",
       "      <th>3</th>\n",
       "      <td>2019-03-02</td>\n",
       "      <td>38</td>\n",
       "      <td>16.0</td>\n",
       "      <td>1</td>\n",
       "      <td>1</td>\n",
       "    </tr>\n",
       "    <tr>\n",
       "      <th>4</th>\n",
       "      <td>2019-03-02</td>\n",
       "      <td>48</td>\n",
       "      <td>8.0</td>\n",
       "      <td>1</td>\n",
       "      <td>1</td>\n",
       "    </tr>\n",
       "    <tr>\n",
       "      <th>5</th>\n",
       "      <td>2019-03-02</td>\n",
       "      <td>50</td>\n",
       "      <td>10.0</td>\n",
       "      <td>1</td>\n",
       "      <td>1</td>\n",
       "    </tr>\n",
       "    <tr>\n",
       "      <th>6</th>\n",
       "      <td>2019-03-09</td>\n",
       "      <td>1</td>\n",
       "      <td>18.0</td>\n",
       "      <td>1</td>\n",
       "      <td>1</td>\n",
       "    </tr>\n",
       "    <tr>\n",
       "      <th>7</th>\n",
       "      <td>2019-03-09</td>\n",
       "      <td>2</td>\n",
       "      <td>20.0</td>\n",
       "      <td>1</td>\n",
       "      <td>1</td>\n",
       "    </tr>\n",
       "    <tr>\n",
       "      <th>8</th>\n",
       "      <td>2019-03-09</td>\n",
       "      <td>12</td>\n",
       "      <td>16.0</td>\n",
       "      <td>1</td>\n",
       "      <td>1</td>\n",
       "    </tr>\n",
       "    <tr>\n",
       "      <th>9</th>\n",
       "      <td>2019-03-09</td>\n",
       "      <td>35</td>\n",
       "      <td>4.0</td>\n",
       "      <td>1</td>\n",
       "      <td>1</td>\n",
       "    </tr>\n",
       "    <tr>\n",
       "      <th>10</th>\n",
       "      <td>2020-03-01</td>\n",
       "      <td>4</td>\n",
       "      <td>13.5</td>\n",
       "      <td>1</td>\n",
       "      <td>1</td>\n",
       "    </tr>\n",
       "    <tr>\n",
       "      <th>11</th>\n",
       "      <td>2020-03-01</td>\n",
       "      <td>29</td>\n",
       "      <td>12.5</td>\n",
       "      <td>1</td>\n",
       "      <td>1</td>\n",
       "    </tr>\n",
       "    <tr>\n",
       "      <th>12</th>\n",
       "      <td>2020-03-08</td>\n",
       "      <td>15</td>\n",
       "      <td>10.0</td>\n",
       "      <td>1</td>\n",
       "      <td>1</td>\n",
       "    </tr>\n",
       "    <tr>\n",
       "      <th>13</th>\n",
       "      <td>2020-03-08</td>\n",
       "      <td>26</td>\n",
       "      <td>15.4</td>\n",
       "      <td>1</td>\n",
       "      <td>1</td>\n",
       "    </tr>\n",
       "    <tr>\n",
       "      <th>14</th>\n",
       "      <td>2021-03-06</td>\n",
       "      <td>32</td>\n",
       "      <td>16.0</td>\n",
       "      <td>1</td>\n",
       "      <td>1</td>\n",
       "    </tr>\n",
       "    <tr>\n",
       "      <th>15</th>\n",
       "      <td>2021-03-06</td>\n",
       "      <td>37</td>\n",
       "      <td>10.0</td>\n",
       "      <td>1</td>\n",
       "      <td>1</td>\n",
       "    </tr>\n",
       "    <tr>\n",
       "      <th>16</th>\n",
       "      <td>2021-03-13</td>\n",
       "      <td>15</td>\n",
       "      <td>17.0</td>\n",
       "      <td>1</td>\n",
       "      <td>1</td>\n",
       "    </tr>\n",
       "    <tr>\n",
       "      <th>17</th>\n",
       "      <td>2021-03-13</td>\n",
       "      <td>22</td>\n",
       "      <td>17.5</td>\n",
       "      <td>1</td>\n",
       "      <td>1</td>\n",
       "    </tr>\n",
       "    <tr>\n",
       "      <th>18</th>\n",
       "      <td>2022-03-05</td>\n",
       "      <td>19</td>\n",
       "      <td>10.5</td>\n",
       "      <td>1</td>\n",
       "      <td>1</td>\n",
       "    </tr>\n",
       "    <tr>\n",
       "      <th>19</th>\n",
       "      <td>2022-03-05</td>\n",
       "      <td>28</td>\n",
       "      <td>12.6</td>\n",
       "      <td>1</td>\n",
       "      <td>1</td>\n",
       "    </tr>\n",
       "    <tr>\n",
       "      <th>20</th>\n",
       "      <td>2022-03-12</td>\n",
       "      <td>13</td>\n",
       "      <td>11.0</td>\n",
       "      <td>1</td>\n",
       "      <td>1</td>\n",
       "    </tr>\n",
       "    <tr>\n",
       "      <th>21</th>\n",
       "      <td>2022-03-12</td>\n",
       "      <td>26</td>\n",
       "      <td>13.8</td>\n",
       "      <td>1</td>\n",
       "      <td>1</td>\n",
       "    </tr>\n",
       "  </tbody>\n",
       "</table>\n",
       "</div>"
      ],
      "text/plain": [
       "   market_date  customer_id  purchase_total  vendor_count  customer_count\n",
       "0   2019-03-02           13             4.0             1               1\n",
       "1   2019-03-02           26             2.0             1               1\n",
       "2   2019-03-02           32             5.5             1               1\n",
       "3   2019-03-02           38            16.0             1               1\n",
       "4   2019-03-02           48             8.0             1               1\n",
       "5   2019-03-02           50            10.0             1               1\n",
       "6   2019-03-09            1            18.0             1               1\n",
       "7   2019-03-09            2            20.0             1               1\n",
       "8   2019-03-09           12            16.0             1               1\n",
       "9   2019-03-09           35             4.0             1               1\n",
       "10  2020-03-01            4            13.5             1               1\n",
       "11  2020-03-01           29            12.5             1               1\n",
       "12  2020-03-08           15            10.0             1               1\n",
       "13  2020-03-08           26            15.4             1               1\n",
       "14  2021-03-06           32            16.0             1               1\n",
       "15  2021-03-06           37            10.0             1               1\n",
       "16  2021-03-13           15            17.0             1               1\n",
       "17  2021-03-13           22            17.5             1               1\n",
       "18  2022-03-05           19            10.5             1               1\n",
       "19  2022-03-05           28            12.6             1               1\n",
       "20  2022-03-12           13            11.0             1               1\n",
       "21  2022-03-12           26            13.8             1               1"
      ]
     },
     "execution_count": 13,
     "metadata": {},
     "output_type": "execute_result"
    }
   ],
   "source": [
    "df = '''\n",
    "SELECT  market_date, \n",
    "        customer_id,\n",
    "        quantity * cost_to_customer_per_qty AS purchase_total,\n",
    "        COUNT(DISTINCT vendor_id) AS vendor_count,\n",
    "        COUNT(DISTINCT customer_id) AS customer_count\n",
    "FROM    customer_purchases\n",
    "Group by market_date, customer_id\n",
    "order by market_date, customer_id\n",
    "\n",
    "'''\n",
    "df = pd.read_sql_query(df, conn)\n",
    "df\n"
   ]
  },
  {
   "cell_type": "code",
   "execution_count": 14,
   "metadata": {},
   "outputs": [],
   "source": [
    "# df = '''\n",
    "# -- Tìm ngày mua tiếp theo của cùng 1 khách hàng sau ngày hiện tại(market_date).\n",
    "# Select \n",
    "# \tT1.customer_id,\n",
    "#     T1.market_date as ngay_hien_tai,\n",
    "#     Min(T2.market_date) as ngay_tiep_theo,\n",
    "#     DATEDIFF('DAT', ngay_hien_tai, ngay_tiep_theo) as so_ngay\n",
    "# from customer_markets_attended AS T1,\n",
    "# \t customer_markets_attended AS T2\n",
    "# where T1.market_date < T2.market_date and\n",
    "#       T1.customer_id = T2.customer_id\n",
    "# GROUP BY \n",
    "#     T1.customer_id, T1.market_date;\n",
    "\n",
    "# '''\n",
    "# df = pd.read_sql_query(df, conn)\n",
    "# df"
   ]
  },
  {
   "cell_type": "code",
   "execution_count": 15,
   "metadata": {},
   "outputs": [
    {
     "data": {
      "application/vnd.microsoft.datawrangler.viewer.v0+json": {
       "columns": [
        {
         "name": "index",
         "rawType": "int64",
         "type": "integer"
        },
        {
         "name": "customer_id",
         "rawType": "int64",
         "type": "integer"
        },
        {
         "name": "ngay_hien_tai",
         "rawType": "object",
         "type": "string"
        },
        {
         "name": "ngay_tiep_theo",
         "rawType": "object",
         "type": "string"
        },
        {
         "name": "so_ngay",
         "rawType": "float64",
         "type": "float"
        }
       ],
       "conversionMethod": "pd.DataFrame",
       "ref": "5ec8ce4d-ac8e-4630-9511-9ca062d46b09",
       "rows": [
        [
         "0",
         "13",
         "2019-03-02",
         "2022-03-12",
         "1106.0"
        ],
        [
         "1",
         "15",
         "2020-03-08",
         "2021-03-13",
         "370.0"
        ],
        [
         "2",
         "26",
         "2019-03-02",
         "2020-03-08",
         "372.0"
        ],
        [
         "3",
         "26",
         "2020-03-08",
         "2022-03-12",
         "734.0"
        ],
        [
         "4",
         "32",
         "2019-03-02",
         "2021-03-06",
         "735.0"
        ]
       ],
       "shape": {
        "columns": 4,
        "rows": 5
       }
      },
      "text/html": [
       "<div>\n",
       "<style scoped>\n",
       "    .dataframe tbody tr th:only-of-type {\n",
       "        vertical-align: middle;\n",
       "    }\n",
       "\n",
       "    .dataframe tbody tr th {\n",
       "        vertical-align: top;\n",
       "    }\n",
       "\n",
       "    .dataframe thead th {\n",
       "        text-align: right;\n",
       "    }\n",
       "</style>\n",
       "<table border=\"1\" class=\"dataframe\">\n",
       "  <thead>\n",
       "    <tr style=\"text-align: right;\">\n",
       "      <th></th>\n",
       "      <th>customer_id</th>\n",
       "      <th>ngay_hien_tai</th>\n",
       "      <th>ngay_tiep_theo</th>\n",
       "      <th>so_ngay</th>\n",
       "    </tr>\n",
       "  </thead>\n",
       "  <tbody>\n",
       "    <tr>\n",
       "      <th>0</th>\n",
       "      <td>13</td>\n",
       "      <td>2019-03-02</td>\n",
       "      <td>2022-03-12</td>\n",
       "      <td>1106.0</td>\n",
       "    </tr>\n",
       "    <tr>\n",
       "      <th>1</th>\n",
       "      <td>15</td>\n",
       "      <td>2020-03-08</td>\n",
       "      <td>2021-03-13</td>\n",
       "      <td>370.0</td>\n",
       "    </tr>\n",
       "    <tr>\n",
       "      <th>2</th>\n",
       "      <td>26</td>\n",
       "      <td>2019-03-02</td>\n",
       "      <td>2020-03-08</td>\n",
       "      <td>372.0</td>\n",
       "    </tr>\n",
       "    <tr>\n",
       "      <th>3</th>\n",
       "      <td>26</td>\n",
       "      <td>2020-03-08</td>\n",
       "      <td>2022-03-12</td>\n",
       "      <td>734.0</td>\n",
       "    </tr>\n",
       "    <tr>\n",
       "      <th>4</th>\n",
       "      <td>32</td>\n",
       "      <td>2019-03-02</td>\n",
       "      <td>2021-03-06</td>\n",
       "      <td>735.0</td>\n",
       "    </tr>\n",
       "  </tbody>\n",
       "</table>\n",
       "</div>"
      ],
      "text/plain": [
       "   customer_id ngay_hien_tai ngay_tiep_theo  so_ngay\n",
       "0           13    2019-03-02     2022-03-12   1106.0\n",
       "1           15    2020-03-08     2021-03-13    370.0\n",
       "2           26    2019-03-02     2020-03-08    372.0\n",
       "3           26    2020-03-08     2022-03-12    734.0\n",
       "4           32    2019-03-02     2021-03-06    735.0"
      ]
     },
     "execution_count": 15,
     "metadata": {},
     "output_type": "execute_result"
    }
   ],
   "source": [
    "df = '''\n",
    "-- Tìm ngày mua tiếp theo của cùng 1 khách hàng sau ngày hiện tại (market_date)\n",
    "SELECT \n",
    "    T1.customer_id,\n",
    "    T1.market_date AS ngay_hien_tai,\n",
    "    MIN(T2.market_date) AS ngay_tiep_theo,\n",
    "    JULIANDAY(MIN(T2.market_date)) - JULIANDAY(T1.market_date) AS so_ngay\n",
    "FROM \n",
    "    customer_markets_attended AS T1,\n",
    "    customer_markets_attended AS T2\n",
    "WHERE \n",
    "    T1.customer_id = T2.customer_id AND\n",
    "    T1.market_date < T2.market_date\n",
    "GROUP BY \n",
    "    T1.customer_id, T1.market_date;\n",
    "'''\n",
    "df = pd.read_sql_query(df, conn)\n",
    "df\n"
   ]
  },
  {
   "cell_type": "code",
   "execution_count": 17,
   "metadata": {},
   "outputs": [
    {
     "data": {
      "application/vnd.microsoft.datawrangler.viewer.v0+json": {
       "columns": [
        {
         "name": "index",
         "rawType": "int64",
         "type": "integer"
        },
        {
         "name": "customer_id",
         "rawType": "int64",
         "type": "integer"
        },
        {
         "name": "ngay_hien_tai",
         "rawType": "object",
         "type": "string"
        },
        {
         "name": "ngay_tiep_theo",
         "rawType": "object",
         "type": "string"
        },
        {
         "name": "quay_lai_trong_30_ngay",
         "rawType": "int64",
         "type": "integer"
        }
       ],
       "conversionMethod": "pd.DataFrame",
       "ref": "6244baaa-767c-4c97-9400-21338ec23e64",
       "rows": [
        [
         "0",
         "13",
         "2019-03-02",
         "2022-03-12",
         "0"
        ],
        [
         "1",
         "15",
         "2020-03-08",
         "2021-03-13",
         "0"
        ],
        [
         "2",
         "26",
         "2019-03-02",
         "2020-03-08",
         "0"
        ],
        [
         "3",
         "26",
         "2020-03-08",
         "2022-03-12",
         "0"
        ],
        [
         "4",
         "32",
         "2019-03-02",
         "2021-03-06",
         "0"
        ]
       ],
       "shape": {
        "columns": 4,
        "rows": 5
       }
      },
      "text/html": [
       "<div>\n",
       "<style scoped>\n",
       "    .dataframe tbody tr th:only-of-type {\n",
       "        vertical-align: middle;\n",
       "    }\n",
       "\n",
       "    .dataframe tbody tr th {\n",
       "        vertical-align: top;\n",
       "    }\n",
       "\n",
       "    .dataframe thead th {\n",
       "        text-align: right;\n",
       "    }\n",
       "</style>\n",
       "<table border=\"1\" class=\"dataframe\">\n",
       "  <thead>\n",
       "    <tr style=\"text-align: right;\">\n",
       "      <th></th>\n",
       "      <th>customer_id</th>\n",
       "      <th>ngay_hien_tai</th>\n",
       "      <th>ngay_tiep_theo</th>\n",
       "      <th>quay_lai_trong_30_ngay</th>\n",
       "    </tr>\n",
       "  </thead>\n",
       "  <tbody>\n",
       "    <tr>\n",
       "      <th>0</th>\n",
       "      <td>13</td>\n",
       "      <td>2019-03-02</td>\n",
       "      <td>2022-03-12</td>\n",
       "      <td>0</td>\n",
       "    </tr>\n",
       "    <tr>\n",
       "      <th>1</th>\n",
       "      <td>15</td>\n",
       "      <td>2020-03-08</td>\n",
       "      <td>2021-03-13</td>\n",
       "      <td>0</td>\n",
       "    </tr>\n",
       "    <tr>\n",
       "      <th>2</th>\n",
       "      <td>26</td>\n",
       "      <td>2019-03-02</td>\n",
       "      <td>2020-03-08</td>\n",
       "      <td>0</td>\n",
       "    </tr>\n",
       "    <tr>\n",
       "      <th>3</th>\n",
       "      <td>26</td>\n",
       "      <td>2020-03-08</td>\n",
       "      <td>2022-03-12</td>\n",
       "      <td>0</td>\n",
       "    </tr>\n",
       "    <tr>\n",
       "      <th>4</th>\n",
       "      <td>32</td>\n",
       "      <td>2019-03-02</td>\n",
       "      <td>2021-03-06</td>\n",
       "      <td>0</td>\n",
       "    </tr>\n",
       "  </tbody>\n",
       "</table>\n",
       "</div>"
      ],
      "text/plain": [
       "   customer_id ngay_hien_tai ngay_tiep_theo  quay_lai_trong_30_ngay\n",
       "0           13    2019-03-02     2022-03-12                       0\n",
       "1           15    2020-03-08     2021-03-13                       0\n",
       "2           26    2019-03-02     2020-03-08                       0\n",
       "3           26    2020-03-08     2022-03-12                       0\n",
       "4           32    2019-03-02     2021-03-06                       0"
      ]
     },
     "execution_count": 17,
     "metadata": {},
     "output_type": "execute_result"
    }
   ],
   "source": [
    "df = '''\n",
    "WITH next_purchases AS (\n",
    "    SELECT \n",
    "        T1.customer_id,\n",
    "        T1.market_date AS ngay_hien_tai,\n",
    "        MIN(T2.market_date) AS ngay_tiep_theo,\n",
    "        JULIANDAY(MIN(T2.market_date)) - JULIANDAY(T1.market_date) AS so_ngay\n",
    "    FROM \n",
    "        customer_markets_attended AS T1,\n",
    "        customer_markets_attended AS T2\n",
    "    WHERE \n",
    "        T1.customer_id = T2.customer_id AND\n",
    "        T1.market_date < T2.market_date\n",
    "    GROUP BY \n",
    "        T1.customer_id, T1.market_date\n",
    ")\n",
    "SELECT \n",
    "    customer_id,\n",
    "    ngay_hien_tai,\n",
    "    ngay_tiep_theo,\n",
    "    CAST(so_ngay <= 30 AS INTEGER) AS quay_lai_trong_30_ngay\n",
    "FROM \n",
    "    next_purchases;\n",
    "\n",
    "'''\n",
    "df = pd.read_sql_query(df, conn)\n",
    "df\n"
   ]
  }
 ],
 "metadata": {
  "kernelspec": {
   "display_name": "data_analysis_env",
   "language": "python",
   "name": "python3"
  },
  "language_info": {
   "codemirror_mode": {
    "name": "ipython",
    "version": 3
   },
   "file_extension": ".py",
   "mimetype": "text/x-python",
   "name": "python",
   "nbconvert_exporter": "python",
   "pygments_lexer": "ipython3",
   "version": "3.11.11"
  }
 },
 "nbformat": 4,
 "nbformat_minor": 2
}
