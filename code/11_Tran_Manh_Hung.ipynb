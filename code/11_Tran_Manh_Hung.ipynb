{
 "cells": [
  {
   "cell_type": "markdown",
   "id": "8e619d5a",
   "metadata": {},
   "source": [
    "## Thiết kế CSDL Quản lý bán hàng tại một cửa hàng thực phẩm.  "
   ]
  },
  {
   "cell_type": "markdown",
   "id": "c594f136",
   "metadata": {},
   "source": [
    "### a. Hãy vẽ sơ đồ ERD (Entity Relationship Diagram) cho hệ thống này và xác định các ràng buộc (ví dụ: khóa chính, khóa ngoại, NOT NULL,…) cho các bảng một cách hợp lý. "
   ]
  },
  {
   "cell_type": "markdown",
   "id": "8d65af5b",
   "metadata": {},
   "source": [
    "### b. Tạo danh sách các bản ghi để chèn dữ liệu vào từng bảng trên (lưu ý: không tạo số lượng bản ghi quá ít, tối thiểu mỗi bảng 15 bản ghi). Tận dụng những trường có thể sử dụng giá trị ngẫu nhiên để tránh chèn dữ liệu thủ công. "
   ]
  },
  {
   "cell_type": "code",
   "execution_count": 19,
   "id": "af7e1a93",
   "metadata": {},
   "outputs": [],
   "source": [
    "import pandas as pd\n",
    "import sqlite3\n",
    "import random\n",
    "from datetime import datetime, timedelta\n",
    "import matplotlib.pyplot as plt\n",
    "from collections import Counter"
   ]
  },
  {
   "cell_type": "code",
   "execution_count": 20,
   "id": "e815a50e",
   "metadata": {},
   "outputs": [],
   "source": [
    "# Kết nối tới SQLite database\n",
    "conn = sqlite3.connect(':memory:')\n",
    "cursor = conn.cursor()\n",
    "\n",
    "# Tạo bảng customers\n",
    "cursor.execute('''\n",
    "CREATE TABLE IF NOT EXISTS customers (\n",
    "    customer_id TEXT PRIMARY KEY,\n",
    "    gender TEXT CHECK(gender IN ('M', 'F')) NOT NULL,\n",
    "    birth_date TEXT NOT NULL,\n",
    "    signup_date TEXT NOT NULL\n",
    ")\n",
    "''')\n",
    "\n",
    "# Tạo bảng products\n",
    "cursor.execute('''\n",
    "CREATE TABLE IF NOT EXISTS products (\n",
    "    product_id TEXT PRIMARY KEY,\n",
    "    name TEXT NOT NULL,\n",
    "    category TEXT NOT NULL,\n",
    "    price INT NOT NULL CHECK(price > 0)\n",
    ")\n",
    "''')\n",
    "\n",
    "# Tạo bảng orders\n",
    "cursor.execute('''\n",
    "CREATE TABLE IF NOT EXISTS orders (\n",
    "    order_id TEXT PRIMARY KEY,\n",
    "    customer_id TEXT NOT NULL,\n",
    "    order_date TEXT NOT NULL,\n",
    "    FOREIGN KEY (customer_id) REFERENCES customers(customer_id)\n",
    ")\n",
    "''')\n",
    "\n",
    "# Tạo bảng order_items\n",
    "cursor.execute('''\n",
    "CREATE TABLE IF NOT EXISTS order_items (\n",
    "    order_id TEXT,\n",
    "    product_id TEXT,\n",
    "    quantity INTEGER NOT NULL CHECK(quantity > 0),\n",
    "    PRIMARY KEY (order_id, product_id),\n",
    "    FOREIGN KEY (order_id) REFERENCES orders(order_id),\n",
    "    FOREIGN KEY (product_id) REFERENCES products(product_id)\n",
    ")\n",
    "''')\n",
    "conn.commit()"
   ]
  },
  {
   "cell_type": "code",
   "execution_count": 21,
   "id": "15118ce7",
   "metadata": {},
   "outputs": [
    {
     "name": "stdout",
     "output_type": "stream",
     "text": [
      "Dữ liệu đã được tạo và chèn thành công.\n"
     ]
    }
   ],
   "source": [
    "def random_date(start_date, days_range):\n",
    "    return (start_date + timedelta(days=random.randint(0, days_range))).strftime('%Y-%m-%d')\n",
    "\n",
    "# Tạo customers\n",
    "def random_birth_date(min_age=15, max_age=60):\n",
    "    \"\"\"Trả về ngày sinh ngẫu nhiên từ min_age đến max_age tuổi tính đến hôm nay.\"\"\"\n",
    "    today = datetime.today()\n",
    "    min_birth = today - timedelta(days=max_age*365)\n",
    "    max_birth = today - timedelta(days=min_age*365)\n",
    "    random_days = random.randint(0, (max_birth - min_birth).days)\n",
    "    return min_birth + timedelta(days=random_days)\n",
    "\n",
    "signup_start = datetime(2025, 1, 1)\n",
    "customers = []\n",
    "for i in range(15):\n",
    "    cid = f'C{random.randint(1000, 9999)}'\n",
    "    gender = random.choice(['M', 'F'])\n",
    "    birth_date = random_birth_date(15, 60)\n",
    "    signup_date = random_date(signup_start, 140)\n",
    "    customers.append((cid, gender, birth_date, signup_date))\n",
    "cursor.executemany('INSERT INTO customers VALUES (?, ?, ?, ?)', customers)\n",
    "\n",
    "# Tạo products\n",
    "# Đảm bảo mỗi sản phẩm trong catalog có 1 mã khác nhau\n",
    "product_catalog = {\n",
    "    'Nước táo ép':        ('Đồ uống', 15000),\n",
    "    'Trà xanh':           ('Đồ uống', 18000),\n",
    "    'Sữa tươi':         ('Đồ uống', 17000),\n",
    "    'Mì chính':          ('Gia vị', 12000),\n",
    "    'Đường trắng':        ('Gia vị', 13000),\n",
    "    'Hạt tiêu đen':       ('Gia vị', 14000),\n",
    "    'Thịt bò':            ('Thực phẩm tươi', 100000),\n",
    "    'Cá hồi':             ('Thực phẩm tươi', 110000),\n",
    "    'Gà nguyên con':      ('Thực phẩm tươi', 90000),\n",
    "    'Mì ăn liền':         ('Đóng hộp', 25000)\n",
    "}\n",
    "\n",
    "# Tạo 15 sản phẩm khác nhau với tên duy nhất\n",
    "product_names = list(product_catalog.keys())\n",
    "additional_products = [\n",
    "    ('Cà phê lon', 'Đồ uống', 20000),\n",
    "    ('Trứng gà', 'Thực phẩm tươi', 30000),\n",
    "    ('Thạch rau câu', 'Đóng hộp', 22000),\n",
    "    ('Muối', 'Gia vị', 10000),\n",
    "    ('Nước khoáng', 'Đồ uống', 12000)\n",
    "]\n",
    "\n",
    "# Kết hợp dữ liệu sản phẩm\n",
    "all_products_info = list(product_catalog.items()) + additional_products\n",
    "random.shuffle(all_products_info)\n",
    "\n",
    "# Tạo mã sản phẩm duy nhất\n",
    "used_ids = set()\n",
    "products = []\n",
    "while len(products) < 15:\n",
    "    pid = f'P{random.randint(1000, 9999)}'\n",
    "    if pid in used_ids:\n",
    "        continue\n",
    "    name, (category, price) = all_products_info[len(products)] if isinstance(all_products_info[len(products)], tuple) and isinstance(all_products_info[len(products)][1], tuple) else (all_products_info[len(products)][0], all_products_info[len(products)][1:])\n",
    "    products.append((pid, name, category, price))\n",
    "    used_ids.add(pid)\n",
    "\n",
    "cursor.executemany('INSERT INTO products VALUES (?, ?, ?, ?)', products)\n",
    "conn.commit()\n",
    "\n",
    "\n",
    "# Lấy danh sách customer_id và product_id cho dùng tiếp\n",
    "cursor.execute('SELECT customer_id FROM customers')\n",
    "customer_ids = [row[0] for row in cursor.fetchall()]\n",
    "cursor.execute('SELECT product_id FROM products')\n",
    "product_ids = [row[0] for row in cursor.fetchall()]\n",
    "\n",
    "# Tạo orders\n",
    "orders = []\n",
    "order_start = datetime(2025, 1, 1)\n",
    "for i in range(15):\n",
    "    oid = f'O{random.randint(1000, 9999)}'\n",
    "    cid = random.choice(customer_ids)\n",
    "    order_date = random_date(order_start, 140)\n",
    "    orders.append((oid, cid, order_date))\n",
    "cursor.executemany('INSERT INTO orders VALUES (?, ?, ?)', orders)\n",
    "\n",
    "# Tạo order_items (30 bản ghi: mỗi order có 2 sản phẩm)\n",
    "order_items = []\n",
    "for oid, _, _ in orders:\n",
    "    selected_products = random.sample(product_ids, 2)\n",
    "    for pid in selected_products:\n",
    "        quantity = random.randint(1, 5)\n",
    "        order_items.append((oid, pid, quantity))\n",
    "cursor.executemany('INSERT INTO order_items VALUES (?, ?, ?)', order_items)\n",
    "\n",
    "conn.commit()\n",
    "print(\"Dữ liệu đã được tạo và chèn thành công.\")\n"
   ]
  },
  {
   "cell_type": "code",
   "execution_count": 22,
   "id": "3e816b67",
   "metadata": {},
   "outputs": [
    {
     "name": "stdout",
     "output_type": "stream",
     "text": [
      "Customers:\n",
      "   customer_id gender                  birth_date signup_date\n",
      "0        C7955      M  2003-06-28 15:49:40.571879  2025-05-21\n",
      "1        C5574      M  1998-10-21 15:49:40.571879  2025-03-29\n",
      "2        C5067      M  1984-07-31 15:49:40.571879  2025-01-18\n",
      "3        C7687      F  1995-02-02 15:49:40.571879  2025-05-04\n",
      "4        C1942      F  2001-12-12 15:49:40.571879  2025-03-03\n",
      "5        C2084      F  1987-07-03 15:49:40.571879  2025-04-26\n",
      "6        C6528      F  1984-04-05 15:49:40.571879  2025-01-26\n",
      "7        C8692      M  1991-03-08 15:49:40.571879  2025-04-06\n",
      "8        C5520      M  2004-01-27 15:49:40.571879  2025-05-11\n",
      "9        C1503      F  2004-02-09 15:49:40.571879  2025-04-26\n",
      "10       C6710      F  1994-05-12 15:49:40.571879  2025-02-22\n",
      "11       C9923      M  1995-05-25 15:49:40.571879  2025-04-22\n",
      "12       C3475      F  1965-10-13 15:49:40.571879  2025-04-26\n",
      "13       C5032      M  1988-10-04 15:49:40.571879  2025-02-21\n",
      "14       C2797      F  1995-05-03 15:49:40.571879  2025-04-02\n",
      "\n",
      "Products:\n",
      "   product_id           name        category   price\n",
      "0       P4724     Mì ăn liền        Đóng hộp   25000\n",
      "1       P6285   Hạt tiêu đen          Gia vị   14000\n",
      "2       P8004       Mì chính          Gia vị   12000\n",
      "3       P2357    Nước táo ép         Đồ uống   15000\n",
      "4       P4457  Thạch rau câu        Đóng hộp   22000\n",
      "5       P8951           Muối          Gia vị   10000\n",
      "6       P1109     Cà phê lon         Đồ uống   20000\n",
      "7       P4661       Trứng gà  Thực phẩm tươi   30000\n",
      "8       P5525  Gà nguyên con  Thực phẩm tươi   90000\n",
      "9       P3617    Nước khoáng         Đồ uống   12000\n",
      "10      P9247    Đường trắng          Gia vị   13000\n",
      "11      P1149       Sữa tươi         Đồ uống   17000\n",
      "12      P8624        Thịt bò  Thực phẩm tươi  100000\n",
      "13      P3161       Trà xanh         Đồ uống   18000\n",
      "14      P4618         Cá hồi  Thực phẩm tươi  110000\n",
      "\n",
      "Orders:\n",
      "   order_id customer_id  order_date\n",
      "0     O5192       C2797  2025-01-28\n",
      "1     O9951       C6710  2025-03-31\n",
      "2     O3304       C6528  2025-01-08\n",
      "3     O2521       C5574  2025-05-03\n",
      "4     O2207       C5032  2025-01-29\n",
      "5     O9813       C1942  2025-05-02\n",
      "6     O1260       C1503  2025-02-05\n",
      "7     O7025       C5574  2025-04-26\n",
      "8     O9248       C5574  2025-05-16\n",
      "9     O2291       C6528  2025-03-29\n",
      "10    O9358       C3475  2025-03-05\n",
      "11    O9860       C1942  2025-04-15\n",
      "12    O6328       C7687  2025-05-12\n",
      "13    O3159       C5520  2025-04-27\n",
      "14    O4104       C6528  2025-01-03\n",
      "\n",
      "Order Items:\n",
      "   order_id product_id  quantity\n",
      "0     O5192      P3161         2\n",
      "1     O5192      P8004         4\n",
      "2     O9951      P6285         3\n",
      "3     O9951      P8624         1\n",
      "4     O3304      P4457         1\n",
      "5     O3304      P5525         4\n",
      "6     O2521      P3161         5\n",
      "7     O2521      P3617         4\n",
      "8     O2207      P8951         2\n",
      "9     O2207      P8624         3\n",
      "10    O9813      P8951         2\n",
      "11    O9813      P4724         2\n",
      "12    O1260      P4618         1\n",
      "13    O1260      P6285         3\n",
      "14    O7025      P9247         2\n",
      "15    O7025      P8004         2\n",
      "16    O9248      P2357         4\n",
      "17    O9248      P6285         2\n",
      "18    O2291      P4457         1\n",
      "19    O2291      P2357         5\n",
      "20    O9358      P8951         1\n",
      "21    O9358      P3161         1\n",
      "22    O9860      P4661         3\n",
      "23    O9860      P3617         5\n",
      "24    O6328      P2357         3\n",
      "25    O6328      P9247         1\n",
      "26    O3159      P1109         2\n",
      "27    O3159      P4457         2\n",
      "28    O4104      P1149         1\n",
      "29    O4104      P3161         1\n"
     ]
    }
   ],
   "source": [
    "import pandas as pd\n",
    "# Hiển thị bảng customers\n",
    "df_customers = pd.read_sql_query('SELECT * FROM customers', conn)\n",
    "print(\"Customers:\")\n",
    "print(df_customers)\n",
    "\n",
    "# Hiển thị bảng products\n",
    "df_products = pd.read_sql_query('SELECT * FROM products', conn)\n",
    "print(\"\\nProducts:\")\n",
    "print(df_products)\n",
    "\n",
    "# Hiển thị bảng orders\n",
    "df_orders = pd.read_sql_query('SELECT * FROM orders', conn)\n",
    "print(\"\\nOrders:\")\n",
    "print(df_orders)\n",
    "\n",
    "# Hiển thị bảng order_items\n",
    "df_order_items = pd.read_sql_query('SELECT * FROM order_items', conn)\n",
    "print(\"\\nOrder Items:\")\n",
    "print(df_order_items)\n"
   ]
  },
  {
   "cell_type": "markdown",
   "id": "c24de5be",
   "metadata": {},
   "source": [
    "### c. Hãy thực hiện các thao tác cơ bản sau: \n",
    "> Thực hiện sửa đổi thông tin của một bản ghi trong bảng products trên. Kết quả trước và sau khi sửa đổi là gì? Có những bảng nào có sự thay đổi, vì sao? "
   ]
  },
  {
   "cell_type": "code",
   "execution_count": 23,
   "id": "9e28896c",
   "metadata": {},
   "outputs": [
    {
     "name": "stdout",
     "output_type": "stream",
     "text": [
      "Trước khi sửa: None\n",
      "Sau khi sửa: None\n"
     ]
    }
   ],
   "source": [
    "# Xem thông tin trước khi sửa\n",
    "product_id = 'P2757'\n",
    "cursor.execute(\"SELECT * FROM products WHERE product_id = ?\", (product_id,))\n",
    "print(\"Trước khi sửa:\", cursor.fetchone())\n",
    "\n",
    "# Cập nhật giá tăng 10%\n",
    "cursor.execute(\"UPDATE products SET price = price * 1.1 WHERE product_id = ?\", (product_id,))\n",
    "\n",
    "# Xem thông tin sau khi sửa\n",
    "cursor.execute(\"SELECT * FROM products WHERE product_id = ?\", (product_id,))\n",
    "print(\"Sau khi sửa:\", cursor.fetchone())\n",
    "\n",
    "conn.commit()"
   ]
  },
  {
   "cell_type": "markdown",
   "id": "92dc07dd",
   "metadata": {},
   "source": [
    "- Thực hiện tăng giá sản phẩm 'Trứng gà'(P2757):\n",
    "    - Giá Trứng gà tăng thêm 3000VNĐ(10%) so với ban đầu.\n",
    "    - Chỉ có bảng products là có sự thay đổi, những bảng còn lại không liên quan đến giá sản phẩm."
   ]
  },
  {
   "cell_type": "markdown",
   "id": "d3026e48",
   "metadata": {},
   "source": [
    "> Những hàng hóa nào có tỷ lệ nữ mua nhiều nhất? Nam mua nhiều nhất? Tỷ lệ nam nữ mua xấp xỉ bằng nhau (cho phép chênh lệch 10%)? "
   ]
  },
  {
   "cell_type": "code",
   "execution_count": 24,
   "id": "c0888361",
   "metadata": {},
   "outputs": [],
   "source": [
    "query1 = \"\"\"\n",
    "WITH product_gender_quantity AS (\n",
    "    SELECT\n",
    "        p.product_id,\n",
    "        p.name,\n",
    "        c.gender,\n",
    "        SUM(oi.quantity) AS total_quantity\n",
    "    FROM\n",
    "        order_items oi\n",
    "    JOIN orders o ON oi.order_id = o.order_id\n",
    "    JOIN customers c ON o.customer_id = c.customer_id\n",
    "    JOIN products p ON oi.product_id = p.product_id\n",
    "    GROUP BY p.product_id, c.gender\n",
    "),\n",
    "product_summary AS (\n",
    "    SELECT\n",
    "        product_id,\n",
    "        name,\n",
    "        SUM(CASE WHEN gender = 'F' THEN total_quantity ELSE 0 END) AS total_female,\n",
    "        SUM(CASE WHEN gender = 'M' THEN total_quantity ELSE 0 END) AS total_male\n",
    "    FROM product_gender_quantity\n",
    "    GROUP BY product_id, name\n",
    ")\n",
    "SELECT\n",
    "    product_id,\n",
    "    name,\n",
    "    total_female,\n",
    "    total_male,\n",
    "    ABS(total_female - total_male) AS quantity_difference,\n",
    "    ROUND(ABS(total_female - total_male) * 100.0 / (total_female + total_male), 1) AS percent_difference,\n",
    "    CASE\n",
    "        WHEN total_female > total_male * 1.1 THEN 'Nữ mua nhiều hơn'\n",
    "        WHEN total_male > total_female * 1.1 THEN 'Nam mua nhiều hơn'\n",
    "        WHEN ABS(total_female - total_male) <= (total_female + total_male) * 0.1 THEN 'Tỷ lệ nam nữ xấp xỉ bằng nhau'\n",
    "        ELSE 'Khác'\n",
    "    END AS purchase_ratio_category\n",
    "FROM product_summary;\n",
    "\"\"\""
   ]
  },
  {
   "cell_type": "code",
   "execution_count": 25,
   "id": "671438ef",
   "metadata": {},
   "outputs": [
    {
     "name": "stdout",
     "output_type": "stream",
     "text": [
      "P1109 | Cà phê lon | Nữ: 0 | Nam: 2 | Chênh lệch: 2 (100.0%) → Nam mua nhiều hơn\n",
      "P1149 | Sữa tươi | Nữ: 1 | Nam: 0 | Chênh lệch: 1 (100.0%) → Nữ mua nhiều hơn\n",
      "P2357 | Nước táo ép | Nữ: 8 | Nam: 4 | Chênh lệch: 4 (33.3%) → Nữ mua nhiều hơn\n",
      "P3161 | Trà xanh | Nữ: 4 | Nam: 5 | Chênh lệch: 1 (11.1%) → Nam mua nhiều hơn\n",
      "P3617 | Nước khoáng | Nữ: 5 | Nam: 4 | Chênh lệch: 1 (11.1%) → Nữ mua nhiều hơn\n",
      "P4457 | Thạch rau câu | Nữ: 2 | Nam: 2 | Chênh lệch: 0 (0.0%) → Tỷ lệ nam nữ xấp xỉ bằng nhau\n",
      "P4618 | Cá hồi | Nữ: 1 | Nam: 0 | Chênh lệch: 1 (100.0%) → Nữ mua nhiều hơn\n",
      "P4661 | Trứng gà | Nữ: 3 | Nam: 0 | Chênh lệch: 3 (100.0%) → Nữ mua nhiều hơn\n",
      "P4724 | Mì ăn liền | Nữ: 2 | Nam: 0 | Chênh lệch: 2 (100.0%) → Nữ mua nhiều hơn\n",
      "P5525 | Gà nguyên con | Nữ: 4 | Nam: 0 | Chênh lệch: 4 (100.0%) → Nữ mua nhiều hơn\n",
      "P6285 | Hạt tiêu đen | Nữ: 6 | Nam: 2 | Chênh lệch: 4 (50.0%) → Nữ mua nhiều hơn\n",
      "P8004 | Mì chính | Nữ: 4 | Nam: 2 | Chênh lệch: 2 (33.3%) → Nữ mua nhiều hơn\n",
      "P8624 | Thịt bò | Nữ: 1 | Nam: 3 | Chênh lệch: 2 (50.0%) → Nam mua nhiều hơn\n",
      "P8951 | Muối | Nữ: 3 | Nam: 2 | Chênh lệch: 1 (20.0%) → Nữ mua nhiều hơn\n",
      "P9247 | Đường trắng | Nữ: 1 | Nam: 2 | Chênh lệch: 1 (33.3%) → Nam mua nhiều hơn\n"
     ]
    }
   ],
   "source": [
    "cursor.execute(query1)\n",
    "results = cursor.fetchall()\n",
    "\n",
    "for row in results:\n",
    "    product_id, name, female, male, diff, percent, label = row\n",
    "    print(f\"{product_id} | {name} | Nữ: {female} | Nam: {male} | Chênh lệch: {diff} ({percent}%) → {label}\")"
   ]
  },
  {
   "cell_type": "code",
   "execution_count": 26,
   "id": "ac8d9ad2",
   "metadata": {},
   "outputs": [
    {
     "name": "stdout",
     "output_type": "stream",
     "text": [
      "Số sản phẩm theo từng nhóm phân loại:\n",
      "Nam mua nhiều hơn: 4 sản phẩm\n",
      "Nữ mua nhiều hơn: 10 sản phẩm\n",
      "Tỷ lệ nam nữ xấp xỉ bằng nhau: 1 sản phẩm\n"
     ]
    }
   ],
   "source": [
    "# Lấy danh sách các nhãn phân loại (label)\n",
    "labels_list = [row[6] for row in results]  # row[6] là 'purchase_ratio_category'\n",
    "\n",
    "# Đếm số lần xuất hiện mỗi loại\n",
    "label_counts = Counter(labels_list)\n",
    "\n",
    "# Hiển thị thống kê\n",
    "print(\"Số sản phẩm theo từng nhóm phân loại:\")\n",
    "for label, count in label_counts.items():\n",
    "    print(f\"{label}: {count} sản phẩm\")"
   ]
  },
  {
   "cell_type": "code",
   "execution_count": 27,
   "id": "c1417867",
   "metadata": {},
   "outputs": [
    {
     "data": {
      "image/png": "[encoded data removed]",
      "text/plain": [
       "<Figure size 600x600 with 1 Axes>"
      ]
     },
     "metadata": {},
     "output_type": "display_data"
    }
   ],
   "source": [
    "# Danh sách nhãn cố định theo thứ tự\n",
    "all_labels = ['Nữ mua nhiều hơn', 'Nam mua nhiều hơn', 'Tỷ lệ nam nữ xấp xỉ bằng nhau']\n",
    "sizes = [label_counts.get(label, 0) for label in all_labels]  # Lấy số lượng theo đúng thứ tự\n",
    "\n",
    "# Màu sắc tương ứng\n",
    "colors = ['#FF9999', '#66B3FF', '#99FF99']\n",
    "\n",
    "# Vẽ biểu đồ tròn\n",
    "plt.figure(figsize=(6, 6))\n",
    "plt.pie(sizes, labels=all_labels, autopct='%1.1f%%', startangle=140, colors=colors, textprops={'fontsize': 9})\n",
    "plt.title('Tỷ lệ sản phẩm theo giới tính mua nhiều hơn', fontsize=14)\n",
    "plt.axis('equal')\n",
    "plt.tight_layout()\n",
    "plt.show()"
   ]
  },
  {
   "cell_type": "markdown",
   "id": "42787937",
   "metadata": {},
   "source": [
    "- Các sản phẩm nữ mua nhiều nhất(100%): Mì chính, Trứng gà, Bánh quy, Thịt bò.\n",
    "- Các sản phẩm nam mua nhiều nhất(100%): Mì ăn liền, Hạt tiêu đen, Đường trắng, Muối i-ốt.\n",
    "- Các sản phẩm nam nữ mua xấp xỉ nhau(<10%): Cà phê lon."
   ]
  },
  {
   "cell_type": "markdown",
   "id": "a87ca5e0",
   "metadata": {},
   "source": [
    "> Tệp khách hàng phổ biến của cửa hàng nằm trong độ tuổi bao nhiêu?  "
   ]
  },
  {
   "cell_type": "code",
   "execution_count": 28,
   "id": "82731d49",
   "metadata": {},
   "outputs": [
    {
     "data": {
      "image/png": "[encoded data removed]",
      "text/plain": [
       "<Figure size 1000x600 with 1 Axes>"
      ]
     },
     "metadata": {},
     "output_type": "display_data"
    }
   ],
   "source": [
    "# Tính tuổi theo ngày hiện tại, phân nhóm độ tuổi, đếm số khách hàng.\n",
    "cursor.execute(\"\"\"\n",
    "SELECT \n",
    "    CAST((julianday('now') - julianday(birth_date)) / 365 AS INTEGER) AS age,\n",
    "    COUNT(*) AS customer_count\n",
    "FROM customers\n",
    "GROUP BY age\n",
    "ORDER BY age\n",
    "\"\"\")\n",
    "data = cursor.fetchall()\n",
    "ages = [row[0] for row in data]\n",
    "counts = [row[1] for row in data]\n",
    "\n",
    "plt.figure(figsize=(10,6))\n",
    "plt.bar(ages, counts, color='skyblue')\n",
    "plt.xlabel(\"Độ tuổi\")\n",
    "plt.ylabel(\"Số lượng khách hàng\")\n",
    "plt.title(\"Phân bố độ tuổi của khách hàng\")\n",
    "plt.grid(axis='y', linestyle='--', alpha=0.7)\n",
    "plt.tight_layout()\n",
    "plt.show()"
   ]
  },
  {
   "cell_type": "markdown",
   "id": "6f5e2155",
   "metadata": {},
   "source": [
    "- Tệp khách hàng phổ biến của cửa hàng nằm trong độ tuổi từ 18 đến 32 tuổi.\n",
    "    - Cao nhất là nhóm khách hàng 28-29 tuổi."
   ]
  },
  {
   "cell_type": "markdown",
   "id": "a0857635",
   "metadata": {},
   "source": [
    "> Thời gian trung bình mà khách hàng đó quay lại cửa hàng là bao lâu (tính theo \n",
    "ngày)? "
   ]
  },
  {
   "cell_type": "code",
   "execution_count": 29,
   "id": "3d468288",
   "metadata": {},
   "outputs": [
    {
     "name": "stdout",
     "output_type": "stream",
     "text": [
      "Khoảng cách trung bình giữa các đơn hàng của mỗi khách hàng là 23.17 ngày.\n"
     ]
    }
   ],
   "source": [
    "# Tính khoảng cách trung bình giữa các đơn hàng của cùng khách hàng.\n",
    "query2 = \"\"\"\n",
    "WITH order_dates AS (\n",
    "    SELECT\n",
    "        customer_id,\n",
    "        order_date,\n",
    "        LEAD(order_date) OVER (PARTITION BY customer_id ORDER BY order_date) AS next_order_date\n",
    "    FROM orders\n",
    "),\n",
    "order_intervals AS (\n",
    "    SELECT\n",
    "        customer_id,\n",
    "        julianday(next_order_date) - julianday(order_date) AS days_between\n",
    "    FROM order_dates\n",
    "    WHERE next_order_date IS NOT NULL\n",
    "),\n",
    "avg_by_customer AS (\n",
    "    SELECT\n",
    "        customer_id,\n",
    "        AVG(days_between) AS avg_days_between_orders\n",
    "    FROM order_intervals\n",
    "    GROUP BY customer_id\n",
    ")\n",
    "SELECT\n",
    "    ROUND(AVG(avg_days_between_orders), 2) AS avg_return_days_overall\n",
    "FROM avg_by_customer;\n",
    "\n",
    "\"\"\"\n",
    "cursor.execute(query2)\n",
    "result2 = cursor.fetchone()[0]\n",
    "print(f\"Khoảng cách trung bình giữa các đơn hàng của mỗi khách hàng là {result2:.2f} ngày.\")"
   ]
  },
  {
   "cell_type": "markdown",
   "id": "8c413ae7",
   "metadata": {},
   "source": [
    "- Tần suất mua hàng trung bình của khách hàng là mỗi nửa tháng. "
   ]
  },
  {
   "cell_type": "markdown",
   "id": "fa2cf7d9",
   "metadata": {},
   "source": [
    "### d. Từ các bảng dữ liệu trên, hãy tạo một bộ dữ liệu mới customer_details chứa các thông tin sau: \n",
    "- Các thông tin liên quan đến khách hàng. \n",
    "- Thông tin về ngày mua của khách hàng theo tuần và tháng. \n",
    "- Số lượng trung bình các sản phẩm khác nhau mà khách hàng đã từng mua. \n",
    "- Số tiền trung bình mà khách hàng đó cần phải trả trong một lần mua hàng. \n",
    "- Số ngày trung bình giữa các lần mua hàng của khách hàng đó. "
   ]
  },
  {
   "cell_type": "code",
   "execution_count": 30,
   "id": "0a9da448",
   "metadata": {},
   "outputs": [],
   "source": [
    "cursor.execute('''\n",
    "CREATE VIEW customer_details AS\n",
    "WITH order_summary AS (\n",
    "    SELECT\n",
    "        oi.order_id,\n",
    "        o2.customer_id,\n",
    "        COUNT(DISTINCT oi.product_id) AS product_count,\n",
    "        SUM(oi.quantity * p.price) AS total_amount,\n",
    "        LAG(julianday(o2.order_date)) OVER (PARTITION BY o2.customer_id ORDER BY o2.order_date) AS prev_order_date,\n",
    "        julianday(o2.order_date) AS current_order_date\n",
    "    FROM order_items oi\n",
    "    JOIN products p ON oi.product_id = p.product_id\n",
    "    JOIN orders o2 ON oi.order_id = o2.order_id\n",
    "    GROUP BY oi.order_id, o2.customer_id\n",
    "),\n",
    "order_intervals AS (\n",
    "    SELECT\n",
    "        order_id,\n",
    "        customer_id,\n",
    "        product_count,\n",
    "        total_amount,\n",
    "        current_order_date - prev_order_date AS days_between_orders\n",
    "    FROM order_summary\n",
    "    WHERE prev_order_date IS NOT NULL\n",
    "),\n",
    "purchase_dates AS (\n",
    "    SELECT\n",
    "        customer_id,\n",
    "        MIN(strftime('%Y-%W', order_date)) AS first_purchase_week,\n",
    "        MAX(strftime('%Y-%W', order_date)) AS last_purchase_week,\n",
    "        MIN(strftime('%Y-%m', order_date)) AS first_purchase_month,\n",
    "        MAX(strftime('%Y-%m', order_date)) AS last_purchase_month\n",
    "    FROM orders\n",
    "    GROUP BY customer_id\n",
    ")\n",
    "SELECT\n",
    "    c.customer_id,\n",
    "    c.gender,\n",
    "    c.birth_date,\n",
    "    c.signup_date,\n",
    "\n",
    "    pd.first_purchase_week,\n",
    "    pd.last_purchase_week,\n",
    "    pd.first_purchase_month,\n",
    "    pd.last_purchase_month,\n",
    "\n",
    "    ROUND(AVG(oi.product_count), 2) AS avg_unique_products_per_order,\n",
    "    ROUND(AVG(oi.total_amount), 0) AS avg_amount_per_order,\n",
    "    ROUND(AVG(oi.days_between_orders), 1) AS avg_days_between_orders\n",
    "\n",
    "FROM customers c\n",
    "LEFT JOIN purchase_dates pd ON c.customer_id = pd.customer_id\n",
    "LEFT JOIN order_intervals oi ON c.customer_id = oi.customer_id\n",
    "\n",
    "GROUP BY c.customer_id, c.gender, c.birth_date, c.signup_date;\n",
    "''')\n",
    "conn.commit()"
   ]
  },
  {
   "cell_type": "code",
   "execution_count": 31,
   "id": "f8c92505",
   "metadata": {},
   "outputs": [
    {
     "name": "stdout",
     "output_type": "stream",
     "text": [
      "   customer_id gender                  birth_date signup_date  \\\n",
      "0        C1503      F  2004-02-09 15:49:40.571879  2025-04-26   \n",
      "1        C1942      F  2001-12-12 15:49:40.571879  2025-03-03   \n",
      "2        C2084      F  1987-07-03 15:49:40.571879  2025-04-26   \n",
      "3        C2797      F  1995-05-03 15:49:40.571879  2025-04-02   \n",
      "4        C3475      F  1965-10-13 15:49:40.571879  2025-04-26   \n",
      "5        C5032      M  1988-10-04 15:49:40.571879  2025-02-21   \n",
      "6        C5067      M  1984-07-31 15:49:40.571879  2025-01-18   \n",
      "7        C5520      M  2004-01-27 15:49:40.571879  2025-05-11   \n",
      "8        C5574      M  1998-10-21 15:49:40.571879  2025-03-29   \n",
      "9        C6528      F  1984-04-05 15:49:40.571879  2025-01-26   \n",
      "10       C6710      F  1994-05-12 15:49:40.571879  2025-02-22   \n",
      "11       C7687      F  1995-02-02 15:49:40.571879  2025-05-04   \n",
      "12       C7955      M  2003-06-28 15:49:40.571879  2025-05-21   \n",
      "13       C8692      M  1991-03-08 15:49:40.571879  2025-04-06   \n",
      "14       C9923      M  1995-05-25 15:49:40.571879  2025-04-22   \n",
      "\n",
      "   first_purchase_week last_purchase_week first_purchase_month  \\\n",
      "0              2025-05            2025-05              2025-02   \n",
      "1              2025-15            2025-17              2025-04   \n",
      "2                 None               None                 None   \n",
      "3              2025-04            2025-04              2025-01   \n",
      "4              2025-09            2025-09              2025-03   \n",
      "5              2025-04            2025-04              2025-01   \n",
      "6                 None               None                 None   \n",
      "7              2025-16            2025-16              2025-04   \n",
      "8              2025-16            2025-19              2025-04   \n",
      "9              2025-00            2025-12              2025-01   \n",
      "10             2025-13            2025-13              2025-03   \n",
      "11             2025-19            2025-19              2025-05   \n",
      "12                None               None                 None   \n",
      "13                None               None                 None   \n",
      "14                None               None                 None   \n",
      "\n",
      "   last_purchase_month  avg_unique_products_per_order  avg_amount_per_order  \\\n",
      "0              2025-02                            NaN                   NaN   \n",
      "1              2025-05                            2.0               70000.0   \n",
      "2                 None                            NaN                   NaN   \n",
      "3              2025-01                            NaN                   NaN   \n",
      "4              2025-03                            NaN                   NaN   \n",
      "5              2025-01                            NaN                   NaN   \n",
      "6                 None                            NaN                   NaN   \n",
      "7              2025-04                            NaN                   NaN   \n",
      "8              2025-05                            2.0              113000.0   \n",
      "9              2025-03                            2.0              239500.0   \n",
      "10             2025-03                            NaN                   NaN   \n",
      "11             2025-05                            NaN                   NaN   \n",
      "12                None                            NaN                   NaN   \n",
      "13                None                            NaN                   NaN   \n",
      "14                None                            NaN                   NaN   \n",
      "\n",
      "    avg_days_between_orders  \n",
      "0                       NaN  \n",
      "1                      17.0  \n",
      "2                       NaN  \n",
      "3                       NaN  \n",
      "4                       NaN  \n",
      "5                       NaN  \n",
      "6                       NaN  \n",
      "7                       NaN  \n",
      "8                      10.0  \n",
      "9                      42.5  \n",
      "10                      NaN  \n",
      "11                      NaN  \n",
      "12                      NaN  \n",
      "13                      NaN  \n",
      "14                      NaN  \n"
     ]
    }
   ],
   "source": [
    "df_customer_details = pd.read_sql_query(\"SELECT * FROM customer_details\", conn)\n",
    "print(df_customer_details)"
   ]
  },
  {
   "cell_type": "markdown",
   "id": "8966fd89",
   "metadata": {},
   "source": [
    "- Các thông tin liên quan đến khách hàng: customer_id, gender, birth_date, signup_date.\n",
    "- Các biến mới:\n",
    "    - *first_purchase_week*:              Tuần đầu tiên khách hàng thực hiện đơn hàng (theo format YYYY-WW).\n",
    "    - *last_purchase_week*:               Tuần cuối cùng khách hàng mua hàng.\n",
    "    - *first_purchase_month*:             Tháng đầu tiên khách hàng mua hàng (YYYY-MM).\n",
    "    - *last_purchase_month*:              Tháng cuối cùng khách hàng mua hàng.\n",
    "    - *avg_unique_products_per_order*:    Trung bình số loại sản phẩm khác nhau trong mỗi đơn hàng.\n",
    "    - *avg_amount_per_order*:             Số tiền trung bình mà khách hàng chi cho mỗi đơn hàng.\n",
    "    - *avg_days_between_orders*:          Số ngày trung bình giữa các lần mua hàng của khách hàng đó."
   ]
  },
  {
   "cell_type": "markdown",
   "id": "4a8323af",
   "metadata": {},
   "source": [
    "### e. Từ bảng customer_details trên, hãy tính: \n",
    "> Trung bình có bao nhiêu tài khoản được đăng ký trong một ngày? \n"
   ]
  },
  {
   "cell_type": "code",
   "execution_count": 32,
   "id": "84a054bc",
   "metadata": {},
   "outputs": [
    {
     "name": "stdout",
     "output_type": "stream",
     "text": [
      "Trung bình có 0.12 tài khoản được đăng ký mỗi ngày.\n"
     ]
    }
   ],
   "source": [
    "query3 = \"\"\"\n",
    "SELECT\n",
    "    ROUND(COUNT(*) * 1.0 / NULLIF(julianday(MAX(signup_date)) - julianday(MIN(signup_date)), 0), 2) AS avg_accounts_per_day\n",
    "FROM customers;\n",
    "\"\"\"\n",
    "\n",
    "avg_accounts = pd.read_sql_query(query3, conn).iloc[0, 0]\n",
    "print(f\"Trung bình có {avg_accounts} tài khoản được đăng ký mỗi ngày.\")"
   ]
  },
  {
   "cell_type": "markdown",
   "id": "81797f08",
   "metadata": {},
   "source": [
    "- Lượng khách hàng có thể truy cập có hạn(15 người) so với thời gian vài tháng nên số lượng tài khoản đăng ký nhận được mỗi ngày thấp(0.13tk/ngày)."
   ]
  },
  {
   "cell_type": "markdown",
   "id": "1a53a96f",
   "metadata": {},
   "source": [
    "> Doanh thu trung bình trong mỗi tháng cửa hàng thu được là bao nhiêu?  \n"
   ]
  },
  {
   "cell_type": "code",
   "execution_count": 33,
   "id": "037e53df",
   "metadata": {},
   "outputs": [
    {
     "name": "stdout",
     "output_type": "stream",
     "text": [
      " Doanh thu trung bình mỗi tháng là 375,600 VNĐ.\n"
     ]
    }
   ],
   "source": [
    "query4 = \"\"\"\n",
    "SELECT\n",
    "    ROUND(AVG(monthly_revenue), 0) AS avg_monthly_revenue\n",
    "FROM (\n",
    "    SELECT\n",
    "        strftime('%Y-%m', o.order_date) AS month,\n",
    "        SUM(oi.quantity * p.price) AS monthly_revenue\n",
    "    FROM orders o\n",
    "    JOIN order_items oi ON o.order_id = oi.order_id\n",
    "    JOIN products p ON oi.product_id = p.product_id\n",
    "    GROUP BY strftime('%Y-%m', o.order_date)\n",
    ");\n",
    "\"\"\"\n",
    "avg_revenue = pd.read_sql_query(query4, conn).iloc[0, 0]\n",
    "print(f\" Doanh thu trung bình mỗi tháng là {avg_revenue:,.0f} VNĐ.\")"
   ]
  },
  {
   "cell_type": "markdown",
   "id": "1570912d",
   "metadata": {},
   "source": [
    ">Sản phẩm nào được mua nhiều nhất và ít nhất?"
   ]
  },
  {
   "cell_type": "code",
   "execution_count": null,
   "id": "6d315d9d",
   "metadata": {},
   "outputs": [
    {
     "name": "stdout",
     "output_type": "stream",
     "text": [
      " Sản phẩm bán chạy nhất: Nước táo ép (12 lượt mua)\n",
      " Sản phẩm ít được mua nhất: Sữa tươi (1 lượt mua)\n"
     ]
    },
    {
     "ename": "",
     "evalue": "",
     "output_type": "error",
     "traceback": [
      "\u001b[1;31mThe Kernel crashed while executing code in the current cell or a previous cell. \n",
      "\u001b[1;31mPlease review the code in the cell(s) to identify a possible cause of the failure. \n",
      "\u001b[1;31mClick <a href='https://aka.ms/vscodeJupyterKernelCrash'>here</a> for more info. \n",
      "\u001b[1;31mView Jupyter <a href='command:jupyter.viewOutput'>log</a> for further details."
     ]
    }
   ],
   "source": [
    "# Sản phẩm bán nhiều nhất\n",
    "query_max = \"\"\"\n",
    "SELECT\n",
    "    p.name,\n",
    "    SUM(oi.quantity) AS total_quantity\n",
    "FROM order_items oi\n",
    "JOIN products p ON oi.product_id = p.product_id\n",
    "GROUP BY p.product_id, p.name\n",
    "ORDER BY total_quantity DESC\n",
    "LIMIT 1;\n",
    "\"\"\"\n",
    "most_bought = pd.read_sql_query(query_max, conn)\n",
    "print(f\" Sản phẩm bán chạy nhất: {most_bought['name'][0]} ({most_bought['total_quantity'][0]} lượt mua)\")\n",
    "\n",
    "# Sản phẩm bán ít nhất\n",
    "query_min = \"\"\"\n",
    "SELECT\n",
    "    p.name,\n",
    "    SUM(oi.quantity) AS total_quantity\n",
    "FROM order_items oi\n",
    "JOIN products p ON oi.product_id = p.product_id\n",
    "GROUP BY p.product_id, p.name\n",
    "ORDER BY total_quantity ASC\n",
    "LIMIT 1;\n",
    "\"\"\"\n",
    "least_bought = pd.read_sql_query(query_min, conn)\n",
    "print(f\" Sản phẩm ít được mua nhất: {least_bought['name'][0]} ({least_bought['total_quantity'][0]} lượt mua)\")"
   ]
  }
 ],
 "metadata": {
  "kernelspec": {
   "display_name": "data_analysis_env",
   "language": "python",
   "name": "python3"
  },
  "language_info": {
   "codemirror_mode": {
    "name": "ipython",
    "version": 3
   },
   "file_extension": ".py",
   "mimetype": "text/x-python",
   "name": "python",
   "nbconvert_exporter": "python",
   "pygments_lexer": "ipython3",
   "version": "3.11.11"
  }
 },
 "nbformat": 4,
 "nbformat_minor": 5
}
